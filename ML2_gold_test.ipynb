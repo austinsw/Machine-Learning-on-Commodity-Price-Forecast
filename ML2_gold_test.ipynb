{
  "cells": [
    {
      "cell_type": "code",
      "execution_count": null,
      "id": "d74e9e2d",
      "metadata": {
        "_cell_guid": "b1076dfc-b9ad-4769-8c92-a6c4dae69d19",
        "_uuid": "8f2839f25d086af736a60e9eeb907d3b93b6e0e5",
        "execution": {
          "iopub.execute_input": "2022-01-15T18:00:21.599957Z",
          "iopub.status.busy": "2022-01-15T18:00:21.599073Z",
          "iopub.status.idle": "2022-01-15T18:00:23.059709Z",
          "shell.execute_reply": "2022-01-15T18:00:23.058869Z",
          "shell.execute_reply.started": "2022-01-15T17:30:25.287483Z"
        },
        "papermill": {
          "duration": 1.502629,
          "end_time": "2022-01-15T18:00:23.059876",
          "exception": false,
          "start_time": "2022-01-15T18:00:21.557247",
          "status": "completed"
        },
        "tags": [],
        "id": "d74e9e2d"
      },
      "outputs": [],
      "source": [
        "# importing libraries\n",
        "\n",
        "import pandas as pd\n",
        "import numpy as np\n",
        "import matplotlib.pyplot as plt\n",
        "import seaborn as sns\n",
        "from sklearn.model_selection import train_test_split\n",
        "from sklearn.ensemble import RandomForestRegressor #this is a regression problem\n",
        "from sklearn import metrics\n",
        "import warnings\n",
        "warnings.filterwarnings('ignore')"
      ]
    },
    {
      "cell_type": "code",
      "execution_count": null,
      "id": "eb799509",
      "metadata": {
        "execution": {
          "iopub.execute_input": "2022-01-15T18:00:23.104262Z",
          "iopub.status.busy": "2022-01-15T18:00:23.103305Z",
          "iopub.status.idle": "2022-01-15T18:00:23.143643Z",
          "shell.execute_reply": "2022-01-15T18:00:23.142932Z",
          "shell.execute_reply.started": "2022-01-15T17:30:26.806320Z"
        },
        "papermill": {
          "duration": 0.063204,
          "end_time": "2022-01-15T18:00:23.143787",
          "exception": false,
          "start_time": "2022-01-15T18:00:23.080583",
          "status": "completed"
        },
        "tags": [],
        "colab": {
          "base_uri": "https://localhost:8080/",
          "height": 424
        },
        "id": "eb799509",
        "outputId": "22ef823c-f130-4e9b-e03f-d53ffc609058"
      },
      "outputs": [
        {
          "output_type": "execute_result",
          "data": {
            "text/plain": [
              "         Month    Price  Export - Swiztzerland  Import - UK\n",
              "0     1/1/1996   399.45                   1.46         0.98\n",
              "1     2/1/1996   404.76                   1.46         0.98\n",
              "2     3/1/1996   396.21                   1.46         0.98\n",
              "3     4/1/1996   392.85                   1.46         0.98\n",
              "4     5/1/1996   391.93                   1.46         0.98\n",
              "..         ...      ...                    ...          ...\n",
              "295   8/1/2020  1968.63                   1.19         0.47\n",
              "296   9/1/2020  1921.92                   1.19         0.47\n",
              "297  10/1/2020  1900.27                   1.19         0.47\n",
              "298  11/1/2020  1866.30                   1.19         0.47\n",
              "299  12/1/2020  1858.42                   1.19         0.47\n",
              "\n",
              "[300 rows x 4 columns]"
            ],
            "text/html": [
              "\n",
              "  <div id=\"df-e1a5ea6d-bc47-4fae-9814-b9112914d102\">\n",
              "    <div class=\"colab-df-container\">\n",
              "      <div>\n",
              "<style scoped>\n",
              "    .dataframe tbody tr th:only-of-type {\n",
              "        vertical-align: middle;\n",
              "    }\n",
              "\n",
              "    .dataframe tbody tr th {\n",
              "        vertical-align: top;\n",
              "    }\n",
              "\n",
              "    .dataframe thead th {\n",
              "        text-align: right;\n",
              "    }\n",
              "</style>\n",
              "<table border=\"1\" class=\"dataframe\">\n",
              "  <thead>\n",
              "    <tr style=\"text-align: right;\">\n",
              "      <th></th>\n",
              "      <th>Month</th>\n",
              "      <th>Price</th>\n",
              "      <th>Export - Swiztzerland</th>\n",
              "      <th>Import - UK</th>\n",
              "    </tr>\n",
              "  </thead>\n",
              "  <tbody>\n",
              "    <tr>\n",
              "      <th>0</th>\n",
              "      <td>1/1/1996</td>\n",
              "      <td>399.45</td>\n",
              "      <td>1.46</td>\n",
              "      <td>0.98</td>\n",
              "    </tr>\n",
              "    <tr>\n",
              "      <th>1</th>\n",
              "      <td>2/1/1996</td>\n",
              "      <td>404.76</td>\n",
              "      <td>1.46</td>\n",
              "      <td>0.98</td>\n",
              "    </tr>\n",
              "    <tr>\n",
              "      <th>2</th>\n",
              "      <td>3/1/1996</td>\n",
              "      <td>396.21</td>\n",
              "      <td>1.46</td>\n",
              "      <td>0.98</td>\n",
              "    </tr>\n",
              "    <tr>\n",
              "      <th>3</th>\n",
              "      <td>4/1/1996</td>\n",
              "      <td>392.85</td>\n",
              "      <td>1.46</td>\n",
              "      <td>0.98</td>\n",
              "    </tr>\n",
              "    <tr>\n",
              "      <th>4</th>\n",
              "      <td>5/1/1996</td>\n",
              "      <td>391.93</td>\n",
              "      <td>1.46</td>\n",
              "      <td>0.98</td>\n",
              "    </tr>\n",
              "    <tr>\n",
              "      <th>...</th>\n",
              "      <td>...</td>\n",
              "      <td>...</td>\n",
              "      <td>...</td>\n",
              "      <td>...</td>\n",
              "    </tr>\n",
              "    <tr>\n",
              "      <th>295</th>\n",
              "      <td>8/1/2020</td>\n",
              "      <td>1968.63</td>\n",
              "      <td>1.19</td>\n",
              "      <td>0.47</td>\n",
              "    </tr>\n",
              "    <tr>\n",
              "      <th>296</th>\n",
              "      <td>9/1/2020</td>\n",
              "      <td>1921.92</td>\n",
              "      <td>1.19</td>\n",
              "      <td>0.47</td>\n",
              "    </tr>\n",
              "    <tr>\n",
              "      <th>297</th>\n",
              "      <td>10/1/2020</td>\n",
              "      <td>1900.27</td>\n",
              "      <td>1.19</td>\n",
              "      <td>0.47</td>\n",
              "    </tr>\n",
              "    <tr>\n",
              "      <th>298</th>\n",
              "      <td>11/1/2020</td>\n",
              "      <td>1866.30</td>\n",
              "      <td>1.19</td>\n",
              "      <td>0.47</td>\n",
              "    </tr>\n",
              "    <tr>\n",
              "      <th>299</th>\n",
              "      <td>12/1/2020</td>\n",
              "      <td>1858.42</td>\n",
              "      <td>1.19</td>\n",
              "      <td>0.47</td>\n",
              "    </tr>\n",
              "  </tbody>\n",
              "</table>\n",
              "<p>300 rows × 4 columns</p>\n",
              "</div>\n",
              "      <button class=\"colab-df-convert\" onclick=\"convertToInteractive('df-e1a5ea6d-bc47-4fae-9814-b9112914d102')\"\n",
              "              title=\"Convert this dataframe to an interactive table.\"\n",
              "              style=\"display:none;\">\n",
              "        \n",
              "  <svg xmlns=\"http://www.w3.org/2000/svg\" height=\"24px\"viewBox=\"0 0 24 24\"\n",
              "       width=\"24px\">\n",
              "    <path d=\"M0 0h24v24H0V0z\" fill=\"none\"/>\n",
              "    <path d=\"M18.56 5.44l.94 2.06.94-2.06 2.06-.94-2.06-.94-.94-2.06-.94 2.06-2.06.94zm-11 1L8.5 8.5l.94-2.06 2.06-.94-2.06-.94L8.5 2.5l-.94 2.06-2.06.94zm10 10l.94 2.06.94-2.06 2.06-.94-2.06-.94-.94-2.06-.94 2.06-2.06.94z\"/><path d=\"M17.41 7.96l-1.37-1.37c-.4-.4-.92-.59-1.43-.59-.52 0-1.04.2-1.43.59L10.3 9.45l-7.72 7.72c-.78.78-.78 2.05 0 2.83L4 21.41c.39.39.9.59 1.41.59.51 0 1.02-.2 1.41-.59l7.78-7.78 2.81-2.81c.8-.78.8-2.07 0-2.86zM5.41 20L4 18.59l7.72-7.72 1.47 1.35L5.41 20z\"/>\n",
              "  </svg>\n",
              "      </button>\n",
              "      \n",
              "  <style>\n",
              "    .colab-df-container {\n",
              "      display:flex;\n",
              "      flex-wrap:wrap;\n",
              "      gap: 12px;\n",
              "    }\n",
              "\n",
              "    .colab-df-convert {\n",
              "      background-color: #E8F0FE;\n",
              "      border: none;\n",
              "      border-radius: 50%;\n",
              "      cursor: pointer;\n",
              "      display: none;\n",
              "      fill: #1967D2;\n",
              "      height: 32px;\n",
              "      padding: 0 0 0 0;\n",
              "      width: 32px;\n",
              "    }\n",
              "\n",
              "    .colab-df-convert:hover {\n",
              "      background-color: #E2EBFA;\n",
              "      box-shadow: 0px 1px 2px rgba(60, 64, 67, 0.3), 0px 1px 3px 1px rgba(60, 64, 67, 0.15);\n",
              "      fill: #174EA6;\n",
              "    }\n",
              "\n",
              "    [theme=dark] .colab-df-convert {\n",
              "      background-color: #3B4455;\n",
              "      fill: #D2E3FC;\n",
              "    }\n",
              "\n",
              "    [theme=dark] .colab-df-convert:hover {\n",
              "      background-color: #434B5C;\n",
              "      box-shadow: 0px 1px 3px 1px rgba(0, 0, 0, 0.15);\n",
              "      filter: drop-shadow(0px 1px 2px rgba(0, 0, 0, 0.3));\n",
              "      fill: #FFFFFF;\n",
              "    }\n",
              "  </style>\n",
              "\n",
              "      <script>\n",
              "        const buttonEl =\n",
              "          document.querySelector('#df-e1a5ea6d-bc47-4fae-9814-b9112914d102 button.colab-df-convert');\n",
              "        buttonEl.style.display =\n",
              "          google.colab.kernel.accessAllowed ? 'block' : 'none';\n",
              "\n",
              "        async function convertToInteractive(key) {\n",
              "          const element = document.querySelector('#df-e1a5ea6d-bc47-4fae-9814-b9112914d102');\n",
              "          const dataTable =\n",
              "            await google.colab.kernel.invokeFunction('convertToInteractive',\n",
              "                                                     [key], {});\n",
              "          if (!dataTable) return;\n",
              "\n",
              "          const docLinkHtml = 'Like what you see? Visit the ' +\n",
              "            '<a target=\"_blank\" href=https://colab.research.google.com/notebooks/data_table.ipynb>data table notebook</a>'\n",
              "            + ' to learn more about interactive tables.';\n",
              "          element.innerHTML = '';\n",
              "          dataTable['output_type'] = 'display_data';\n",
              "          await google.colab.output.renderOutput(dataTable, element);\n",
              "          const docLink = document.createElement('div');\n",
              "          docLink.innerHTML = docLinkHtml;\n",
              "          element.appendChild(docLink);\n",
              "        }\n",
              "      </script>\n",
              "    </div>\n",
              "  </div>\n",
              "  "
            ]
          },
          "metadata": {},
          "execution_count": 4
        }
      ],
      "source": [
        "# load the dataset using panda\n",
        "\n",
        "gold_value = pd.read_csv(\"CombinedGoldDataCleaned.csv\")\n",
        "gold_value"
      ]
    },
    {
      "cell_type": "markdown",
      "id": "d3109fd0",
      "metadata": {
        "papermill": {
          "duration": 0.018293,
          "end_time": "2022-01-15T18:00:23.180945",
          "exception": false,
          "start_time": "2022-01-15T18:00:23.162652",
          "status": "completed"
        },
        "tags": [],
        "id": "d3109fd0"
      },
      "source": [
        "# Analzing the dataset"
      ]
    },
    {
      "cell_type": "code",
      "execution_count": null,
      "id": "34b32c8c",
      "metadata": {
        "execution": {
          "iopub.execute_input": "2022-01-15T18:00:23.224274Z",
          "iopub.status.busy": "2022-01-15T18:00:23.223392Z",
          "iopub.status.idle": "2022-01-15T18:00:23.226709Z",
          "shell.execute_reply": "2022-01-15T18:00:23.227225Z",
          "shell.execute_reply.started": "2022-01-15T17:30:26.850264Z"
        },
        "papermill": {
          "duration": 0.027524,
          "end_time": "2022-01-15T18:00:23.227413",
          "exception": false,
          "start_time": "2022-01-15T18:00:23.199889",
          "status": "completed"
        },
        "tags": [],
        "colab": {
          "base_uri": "https://localhost:8080/"
        },
        "id": "34b32c8c",
        "outputId": "d78bae2b-f5db-4c59-d1be-86189c5d5dc8"
      },
      "outputs": [
        {
          "output_type": "execute_result",
          "data": {
            "text/plain": [
              "(300, 4)"
            ]
          },
          "metadata": {},
          "execution_count": 5
        }
      ],
      "source": [
        "gold_value.shape"
      ]
    },
    {
      "cell_type": "code",
      "execution_count": null,
      "id": "02b1f2de",
      "metadata": {
        "execution": {
          "iopub.execute_input": "2022-01-15T18:00:23.269790Z",
          "iopub.status.busy": "2022-01-15T18:00:23.268766Z",
          "iopub.status.idle": "2022-01-15T18:00:23.275714Z",
          "shell.execute_reply": "2022-01-15T18:00:23.276293Z",
          "shell.execute_reply.started": "2022-01-15T17:30:26.858885Z"
        },
        "papermill": {
          "duration": 0.029285,
          "end_time": "2022-01-15T18:00:23.276476",
          "exception": false,
          "start_time": "2022-01-15T18:00:23.247191",
          "status": "completed"
        },
        "tags": [],
        "colab": {
          "base_uri": "https://localhost:8080/"
        },
        "id": "02b1f2de",
        "outputId": "e96f79b9-e14e-4963-e075-03b848dea738"
      },
      "outputs": [
        {
          "output_type": "execute_result",
          "data": {
            "text/plain": [
              "Month                     object\n",
              "Price                    float64\n",
              "Export - Swiztzerland    float64\n",
              "Import - UK              float64\n",
              "dtype: object"
            ]
          },
          "metadata": {},
          "execution_count": 6
        }
      ],
      "source": [
        "gold_value.dtypes"
      ]
    },
    {
      "cell_type": "code",
      "execution_count": null,
      "id": "e621d166",
      "metadata": {
        "execution": {
          "iopub.execute_input": "2022-01-15T18:00:23.320714Z",
          "iopub.status.busy": "2022-01-15T18:00:23.319678Z",
          "iopub.status.idle": "2022-01-15T18:00:23.328044Z",
          "shell.execute_reply": "2022-01-15T18:00:23.328558Z",
          "shell.execute_reply.started": "2022-01-15T17:30:26.874520Z"
        },
        "papermill": {
          "duration": 0.032242,
          "end_time": "2022-01-15T18:00:23.328744",
          "exception": false,
          "start_time": "2022-01-15T18:00:23.296502",
          "status": "completed"
        },
        "tags": [],
        "colab": {
          "base_uri": "https://localhost:8080/"
        },
        "id": "e621d166",
        "outputId": "36884748-990a-4459-b166-81cf8891f86b"
      },
      "outputs": [
        {
          "output_type": "execute_result",
          "data": {
            "text/plain": [
              "Month                    0\n",
              "Price                    0\n",
              "Export - Swiztzerland    0\n",
              "Import - UK              0\n",
              "dtype: int64"
            ]
          },
          "metadata": {},
          "execution_count": 7
        }
      ],
      "source": [
        "gold_value.isna().sum()"
      ]
    },
    {
      "cell_type": "code",
      "execution_count": null,
      "id": "5fcc177e",
      "metadata": {
        "execution": {
          "iopub.execute_input": "2022-01-15T18:00:23.371842Z",
          "iopub.status.busy": "2022-01-15T18:00:23.370795Z",
          "iopub.status.idle": "2022-01-15T18:00:23.400475Z",
          "shell.execute_reply": "2022-01-15T18:00:23.400938Z",
          "shell.execute_reply.started": "2022-01-15T17:30:26.891397Z"
        },
        "papermill": {
          "duration": 0.052659,
          "end_time": "2022-01-15T18:00:23.401114",
          "exception": false,
          "start_time": "2022-01-15T18:00:23.348455",
          "status": "completed"
        },
        "tags": [],
        "colab": {
          "base_uri": "https://localhost:8080/",
          "height": 300
        },
        "id": "5fcc177e",
        "outputId": "f21ef6d1-f423-4bc1-e446-73a9f9cefb85"
      },
      "outputs": [
        {
          "output_type": "execute_result",
          "data": {
            "text/plain": [
              "             Price  Export - Swiztzerland  Import - UK\n",
              "count   300.000000              300.00000   300.000000\n",
              "mean    870.185300                1.34960     0.536400\n",
              "std     507.656772                0.11433     0.295136\n",
              "min     256.080000                1.19000     0.080000\n",
              "25%     355.537500                1.26000     0.360000\n",
              "50%     873.675000                1.32000     0.490000\n",
              "75%    1284.155000                1.44000     0.680000\n",
              "max    1968.630000                1.58000     1.040000"
            ],
            "text/html": [
              "\n",
              "  <div id=\"df-a16492db-0bf2-4813-b2ad-9715f0707594\">\n",
              "    <div class=\"colab-df-container\">\n",
              "      <div>\n",
              "<style scoped>\n",
              "    .dataframe tbody tr th:only-of-type {\n",
              "        vertical-align: middle;\n",
              "    }\n",
              "\n",
              "    .dataframe tbody tr th {\n",
              "        vertical-align: top;\n",
              "    }\n",
              "\n",
              "    .dataframe thead th {\n",
              "        text-align: right;\n",
              "    }\n",
              "</style>\n",
              "<table border=\"1\" class=\"dataframe\">\n",
              "  <thead>\n",
              "    <tr style=\"text-align: right;\">\n",
              "      <th></th>\n",
              "      <th>Price</th>\n",
              "      <th>Export - Swiztzerland</th>\n",
              "      <th>Import - UK</th>\n",
              "    </tr>\n",
              "  </thead>\n",
              "  <tbody>\n",
              "    <tr>\n",
              "      <th>count</th>\n",
              "      <td>300.000000</td>\n",
              "      <td>300.00000</td>\n",
              "      <td>300.000000</td>\n",
              "    </tr>\n",
              "    <tr>\n",
              "      <th>mean</th>\n",
              "      <td>870.185300</td>\n",
              "      <td>1.34960</td>\n",
              "      <td>0.536400</td>\n",
              "    </tr>\n",
              "    <tr>\n",
              "      <th>std</th>\n",
              "      <td>507.656772</td>\n",
              "      <td>0.11433</td>\n",
              "      <td>0.295136</td>\n",
              "    </tr>\n",
              "    <tr>\n",
              "      <th>min</th>\n",
              "      <td>256.080000</td>\n",
              "      <td>1.19000</td>\n",
              "      <td>0.080000</td>\n",
              "    </tr>\n",
              "    <tr>\n",
              "      <th>25%</th>\n",
              "      <td>355.537500</td>\n",
              "      <td>1.26000</td>\n",
              "      <td>0.360000</td>\n",
              "    </tr>\n",
              "    <tr>\n",
              "      <th>50%</th>\n",
              "      <td>873.675000</td>\n",
              "      <td>1.32000</td>\n",
              "      <td>0.490000</td>\n",
              "    </tr>\n",
              "    <tr>\n",
              "      <th>75%</th>\n",
              "      <td>1284.155000</td>\n",
              "      <td>1.44000</td>\n",
              "      <td>0.680000</td>\n",
              "    </tr>\n",
              "    <tr>\n",
              "      <th>max</th>\n",
              "      <td>1968.630000</td>\n",
              "      <td>1.58000</td>\n",
              "      <td>1.040000</td>\n",
              "    </tr>\n",
              "  </tbody>\n",
              "</table>\n",
              "</div>\n",
              "      <button class=\"colab-df-convert\" onclick=\"convertToInteractive('df-a16492db-0bf2-4813-b2ad-9715f0707594')\"\n",
              "              title=\"Convert this dataframe to an interactive table.\"\n",
              "              style=\"display:none;\">\n",
              "        \n",
              "  <svg xmlns=\"http://www.w3.org/2000/svg\" height=\"24px\"viewBox=\"0 0 24 24\"\n",
              "       width=\"24px\">\n",
              "    <path d=\"M0 0h24v24H0V0z\" fill=\"none\"/>\n",
              "    <path d=\"M18.56 5.44l.94 2.06.94-2.06 2.06-.94-2.06-.94-.94-2.06-.94 2.06-2.06.94zm-11 1L8.5 8.5l.94-2.06 2.06-.94-2.06-.94L8.5 2.5l-.94 2.06-2.06.94zm10 10l.94 2.06.94-2.06 2.06-.94-2.06-.94-.94-2.06-.94 2.06-2.06.94z\"/><path d=\"M17.41 7.96l-1.37-1.37c-.4-.4-.92-.59-1.43-.59-.52 0-1.04.2-1.43.59L10.3 9.45l-7.72 7.72c-.78.78-.78 2.05 0 2.83L4 21.41c.39.39.9.59 1.41.59.51 0 1.02-.2 1.41-.59l7.78-7.78 2.81-2.81c.8-.78.8-2.07 0-2.86zM5.41 20L4 18.59l7.72-7.72 1.47 1.35L5.41 20z\"/>\n",
              "  </svg>\n",
              "      </button>\n",
              "      \n",
              "  <style>\n",
              "    .colab-df-container {\n",
              "      display:flex;\n",
              "      flex-wrap:wrap;\n",
              "      gap: 12px;\n",
              "    }\n",
              "\n",
              "    .colab-df-convert {\n",
              "      background-color: #E8F0FE;\n",
              "      border: none;\n",
              "      border-radius: 50%;\n",
              "      cursor: pointer;\n",
              "      display: none;\n",
              "      fill: #1967D2;\n",
              "      height: 32px;\n",
              "      padding: 0 0 0 0;\n",
              "      width: 32px;\n",
              "    }\n",
              "\n",
              "    .colab-df-convert:hover {\n",
              "      background-color: #E2EBFA;\n",
              "      box-shadow: 0px 1px 2px rgba(60, 64, 67, 0.3), 0px 1px 3px 1px rgba(60, 64, 67, 0.15);\n",
              "      fill: #174EA6;\n",
              "    }\n",
              "\n",
              "    [theme=dark] .colab-df-convert {\n",
              "      background-color: #3B4455;\n",
              "      fill: #D2E3FC;\n",
              "    }\n",
              "\n",
              "    [theme=dark] .colab-df-convert:hover {\n",
              "      background-color: #434B5C;\n",
              "      box-shadow: 0px 1px 3px 1px rgba(0, 0, 0, 0.15);\n",
              "      filter: drop-shadow(0px 1px 2px rgba(0, 0, 0, 0.3));\n",
              "      fill: #FFFFFF;\n",
              "    }\n",
              "  </style>\n",
              "\n",
              "      <script>\n",
              "        const buttonEl =\n",
              "          document.querySelector('#df-a16492db-0bf2-4813-b2ad-9715f0707594 button.colab-df-convert');\n",
              "        buttonEl.style.display =\n",
              "          google.colab.kernel.accessAllowed ? 'block' : 'none';\n",
              "\n",
              "        async function convertToInteractive(key) {\n",
              "          const element = document.querySelector('#df-a16492db-0bf2-4813-b2ad-9715f0707594');\n",
              "          const dataTable =\n",
              "            await google.colab.kernel.invokeFunction('convertToInteractive',\n",
              "                                                     [key], {});\n",
              "          if (!dataTable) return;\n",
              "\n",
              "          const docLinkHtml = 'Like what you see? Visit the ' +\n",
              "            '<a target=\"_blank\" href=https://colab.research.google.com/notebooks/data_table.ipynb>data table notebook</a>'\n",
              "            + ' to learn more about interactive tables.';\n",
              "          element.innerHTML = '';\n",
              "          dataTable['output_type'] = 'display_data';\n",
              "          await google.colab.output.renderOutput(dataTable, element);\n",
              "          const docLink = document.createElement('div');\n",
              "          docLink.innerHTML = docLinkHtml;\n",
              "          element.appendChild(docLink);\n",
              "        }\n",
              "      </script>\n",
              "    </div>\n",
              "  </div>\n",
              "  "
            ]
          },
          "metadata": {},
          "execution_count": 8
        }
      ],
      "source": [
        "gold_value.describe()"
      ]
    },
    {
      "cell_type": "code",
      "execution_count": null,
      "id": "ace3d52f",
      "metadata": {
        "execution": {
          "iopub.execute_input": "2022-01-15T18:00:23.450018Z",
          "iopub.status.busy": "2022-01-15T18:00:23.448965Z",
          "iopub.status.idle": "2022-01-15T18:00:23.459542Z",
          "shell.execute_reply": "2022-01-15T18:00:23.458826Z",
          "shell.execute_reply.started": "2022-01-15T17:30:26.929487Z"
        },
        "papermill": {
          "duration": 0.0372,
          "end_time": "2022-01-15T18:00:23.459695",
          "exception": false,
          "start_time": "2022-01-15T18:00:23.422495",
          "status": "completed"
        },
        "tags": [],
        "colab": {
          "base_uri": "https://localhost:8080/",
          "height": 144
        },
        "id": "ace3d52f",
        "outputId": "06e8f463-67ee-44eb-97b7-fa7e36a0eec4"
      },
      "outputs": [
        {
          "output_type": "execute_result",
          "data": {
            "text/plain": [
              "                          Price  Export - Swiztzerland  Import - UK\n",
              "Price                  1.000000              -0.397430    -0.512037\n",
              "Export - Swiztzerland -0.397430               1.000000     0.728343\n",
              "Import - UK           -0.512037               0.728343     1.000000"
            ],
            "text/html": [
              "\n",
              "  <div id=\"df-c8d39a06-ad33-4cf8-912f-3c141eea72f9\">\n",
              "    <div class=\"colab-df-container\">\n",
              "      <div>\n",
              "<style scoped>\n",
              "    .dataframe tbody tr th:only-of-type {\n",
              "        vertical-align: middle;\n",
              "    }\n",
              "\n",
              "    .dataframe tbody tr th {\n",
              "        vertical-align: top;\n",
              "    }\n",
              "\n",
              "    .dataframe thead th {\n",
              "        text-align: right;\n",
              "    }\n",
              "</style>\n",
              "<table border=\"1\" class=\"dataframe\">\n",
              "  <thead>\n",
              "    <tr style=\"text-align: right;\">\n",
              "      <th></th>\n",
              "      <th>Price</th>\n",
              "      <th>Export - Swiztzerland</th>\n",
              "      <th>Import - UK</th>\n",
              "    </tr>\n",
              "  </thead>\n",
              "  <tbody>\n",
              "    <tr>\n",
              "      <th>Price</th>\n",
              "      <td>1.000000</td>\n",
              "      <td>-0.397430</td>\n",
              "      <td>-0.512037</td>\n",
              "    </tr>\n",
              "    <tr>\n",
              "      <th>Export - Swiztzerland</th>\n",
              "      <td>-0.397430</td>\n",
              "      <td>1.000000</td>\n",
              "      <td>0.728343</td>\n",
              "    </tr>\n",
              "    <tr>\n",
              "      <th>Import - UK</th>\n",
              "      <td>-0.512037</td>\n",
              "      <td>0.728343</td>\n",
              "      <td>1.000000</td>\n",
              "    </tr>\n",
              "  </tbody>\n",
              "</table>\n",
              "</div>\n",
              "      <button class=\"colab-df-convert\" onclick=\"convertToInteractive('df-c8d39a06-ad33-4cf8-912f-3c141eea72f9')\"\n",
              "              title=\"Convert this dataframe to an interactive table.\"\n",
              "              style=\"display:none;\">\n",
              "        \n",
              "  <svg xmlns=\"http://www.w3.org/2000/svg\" height=\"24px\"viewBox=\"0 0 24 24\"\n",
              "       width=\"24px\">\n",
              "    <path d=\"M0 0h24v24H0V0z\" fill=\"none\"/>\n",
              "    <path d=\"M18.56 5.44l.94 2.06.94-2.06 2.06-.94-2.06-.94-.94-2.06-.94 2.06-2.06.94zm-11 1L8.5 8.5l.94-2.06 2.06-.94-2.06-.94L8.5 2.5l-.94 2.06-2.06.94zm10 10l.94 2.06.94-2.06 2.06-.94-2.06-.94-.94-2.06-.94 2.06-2.06.94z\"/><path d=\"M17.41 7.96l-1.37-1.37c-.4-.4-.92-.59-1.43-.59-.52 0-1.04.2-1.43.59L10.3 9.45l-7.72 7.72c-.78.78-.78 2.05 0 2.83L4 21.41c.39.39.9.59 1.41.59.51 0 1.02-.2 1.41-.59l7.78-7.78 2.81-2.81c.8-.78.8-2.07 0-2.86zM5.41 20L4 18.59l7.72-7.72 1.47 1.35L5.41 20z\"/>\n",
              "  </svg>\n",
              "      </button>\n",
              "      \n",
              "  <style>\n",
              "    .colab-df-container {\n",
              "      display:flex;\n",
              "      flex-wrap:wrap;\n",
              "      gap: 12px;\n",
              "    }\n",
              "\n",
              "    .colab-df-convert {\n",
              "      background-color: #E8F0FE;\n",
              "      border: none;\n",
              "      border-radius: 50%;\n",
              "      cursor: pointer;\n",
              "      display: none;\n",
              "      fill: #1967D2;\n",
              "      height: 32px;\n",
              "      padding: 0 0 0 0;\n",
              "      width: 32px;\n",
              "    }\n",
              "\n",
              "    .colab-df-convert:hover {\n",
              "      background-color: #E2EBFA;\n",
              "      box-shadow: 0px 1px 2px rgba(60, 64, 67, 0.3), 0px 1px 3px 1px rgba(60, 64, 67, 0.15);\n",
              "      fill: #174EA6;\n",
              "    }\n",
              "\n",
              "    [theme=dark] .colab-df-convert {\n",
              "      background-color: #3B4455;\n",
              "      fill: #D2E3FC;\n",
              "    }\n",
              "\n",
              "    [theme=dark] .colab-df-convert:hover {\n",
              "      background-color: #434B5C;\n",
              "      box-shadow: 0px 1px 3px 1px rgba(0, 0, 0, 0.15);\n",
              "      filter: drop-shadow(0px 1px 2px rgba(0, 0, 0, 0.3));\n",
              "      fill: #FFFFFF;\n",
              "    }\n",
              "  </style>\n",
              "\n",
              "      <script>\n",
              "        const buttonEl =\n",
              "          document.querySelector('#df-c8d39a06-ad33-4cf8-912f-3c141eea72f9 button.colab-df-convert');\n",
              "        buttonEl.style.display =\n",
              "          google.colab.kernel.accessAllowed ? 'block' : 'none';\n",
              "\n",
              "        async function convertToInteractive(key) {\n",
              "          const element = document.querySelector('#df-c8d39a06-ad33-4cf8-912f-3c141eea72f9');\n",
              "          const dataTable =\n",
              "            await google.colab.kernel.invokeFunction('convertToInteractive',\n",
              "                                                     [key], {});\n",
              "          if (!dataTable) return;\n",
              "\n",
              "          const docLinkHtml = 'Like what you see? Visit the ' +\n",
              "            '<a target=\"_blank\" href=https://colab.research.google.com/notebooks/data_table.ipynb>data table notebook</a>'\n",
              "            + ' to learn more about interactive tables.';\n",
              "          element.innerHTML = '';\n",
              "          dataTable['output_type'] = 'display_data';\n",
              "          await google.colab.output.renderOutput(dataTable, element);\n",
              "          const docLink = document.createElement('div');\n",
              "          docLink.innerHTML = docLinkHtml;\n",
              "          element.appendChild(docLink);\n",
              "        }\n",
              "      </script>\n",
              "    </div>\n",
              "  </div>\n",
              "  "
            ]
          },
          "metadata": {},
          "execution_count": 9
        }
      ],
      "source": [
        "corr1 = gold_value.corr(method='pearson')\n",
        "corr1"
      ]
    },
    {
      "cell_type": "code",
      "execution_count": null,
      "id": "daebf1ea",
      "metadata": {
        "execution": {
          "iopub.execute_input": "2022-01-15T18:00:23.510789Z",
          "iopub.status.busy": "2022-01-15T18:00:23.510114Z",
          "iopub.status.idle": "2022-01-15T18:00:23.801660Z",
          "shell.execute_reply": "2022-01-15T18:00:23.802137Z",
          "shell.execute_reply.started": "2022-01-15T17:30:26.944069Z"
        },
        "papermill": {
          "duration": 0.322069,
          "end_time": "2022-01-15T18:00:23.802328",
          "exception": false,
          "start_time": "2022-01-15T18:00:23.480259",
          "status": "completed"
        },
        "tags": [],
        "colab": {
          "base_uri": "https://localhost:8080/",
          "height": 578
        },
        "id": "daebf1ea",
        "outputId": "9dd1bf1f-3d61-49ea-d8c4-c59050337be5"
      },
      "outputs": [
        {
          "output_type": "display_data",
          "data": {
            "text/plain": [
              "<Figure size 720x720 with 2 Axes>"
            ],
            "image/png": "[encoded data removed]"
          },
          "metadata": {
            "needs_background": "light"
          }
        }
      ],
      "source": [
        "#heatmap\n",
        "plt.figure(figsize = (10,10))\n",
        "sns.heatmap(corr1, cbar=True, square=True, fmt='.1f',annot=True, annot_kws={'size':10}, cmap='Greys');"
      ]
    },
    {
      "cell_type": "code",
      "execution_count": null,
      "id": "b51e34e4",
      "metadata": {
        "execution": {
          "iopub.execute_input": "2022-01-15T18:00:23.853530Z",
          "iopub.status.busy": "2022-01-15T18:00:23.852619Z",
          "iopub.status.idle": "2022-01-15T18:00:23.856685Z",
          "shell.execute_reply": "2022-01-15T18:00:23.856128Z",
          "shell.execute_reply.started": "2022-01-15T17:30:27.297171Z"
        },
        "papermill": {
          "duration": 0.033355,
          "end_time": "2022-01-15T18:00:23.856820",
          "exception": false,
          "start_time": "2022-01-15T18:00:23.823465",
          "status": "completed"
        },
        "tags": [],
        "colab": {
          "base_uri": "https://localhost:8080/"
        },
        "id": "b51e34e4",
        "outputId": "50a9dce8-5d00-4e0a-8404-bcbd4e6ed30a"
      },
      "outputs": [
        {
          "output_type": "execute_result",
          "data": {
            "text/plain": [
              "Price                    1.000000\n",
              "Export - Swiztzerland   -0.397430\n",
              "Import - UK             -0.512037\n",
              "Name: Price, dtype: float64"
            ]
          },
          "metadata": {},
          "execution_count": 11
        }
      ],
      "source": [
        "corr1['Price']"
      ]
    },
    {
      "cell_type": "code",
      "execution_count": null,
      "id": "10364b19",
      "metadata": {
        "execution": {
          "iopub.execute_input": "2022-01-15T18:00:23.904333Z",
          "iopub.status.busy": "2022-01-15T18:00:23.903305Z",
          "iopub.status.idle": "2022-01-15T18:00:24.110346Z",
          "shell.execute_reply": "2022-01-15T18:00:24.110840Z",
          "shell.execute_reply.started": "2022-01-15T17:31:10.329741Z"
        },
        "papermill": {
          "duration": 0.232498,
          "end_time": "2022-01-15T18:00:24.111024",
          "exception": false,
          "start_time": "2022-01-15T18:00:23.878526",
          "status": "completed"
        },
        "tags": [],
        "colab": {
          "base_uri": "https://localhost:8080/",
          "height": 279
        },
        "id": "10364b19",
        "outputId": "38ac5b6f-a862-46ac-f3b4-ea0de0782817"
      },
      "outputs": [
        {
          "output_type": "display_data",
          "data": {
            "text/plain": [
              "<Figure size 432x288 with 1 Axes>"
            ],
            "image/png": "[encoded data removed]"
          },
          "metadata": {
            "needs_background": "light"
          }
        }
      ],
      "source": [
        "sns.distplot(gold_value['Price'],color='red');"
      ]
    },
    {
      "cell_type": "code",
      "execution_count": null,
      "id": "19a766e4",
      "metadata": {
        "execution": {
          "iopub.execute_input": "2022-01-15T18:00:24.171037Z",
          "iopub.status.busy": "2022-01-15T18:00:24.170041Z",
          "iopub.status.idle": "2022-01-15T18:00:24.173489Z",
          "shell.execute_reply": "2022-01-15T18:00:24.174074Z",
          "shell.execute_reply.started": "2022-01-15T17:35:54.149024Z"
        },
        "papermill": {
          "duration": 0.040699,
          "end_time": "2022-01-15T18:00:24.174256",
          "exception": false,
          "start_time": "2022-01-15T18:00:24.133557",
          "status": "completed"
        },
        "tags": [],
        "colab": {
          "base_uri": "https://localhost:8080/",
          "height": 424
        },
        "id": "19a766e4",
        "outputId": "65904fa7-0065-4fe6-cdcc-39d84e3a65c7"
      },
      "outputs": [
        {
          "output_type": "execute_result",
          "data": {
            "text/plain": [
              "     Export - Swiztzerland  Import - UK\n",
              "0                     1.46         0.98\n",
              "1                     1.46         0.98\n",
              "2                     1.46         0.98\n",
              "3                     1.46         0.98\n",
              "4                     1.46         0.98\n",
              "..                     ...          ...\n",
              "295                   1.19         0.47\n",
              "296                   1.19         0.47\n",
              "297                   1.19         0.47\n",
              "298                   1.19         0.47\n",
              "299                   1.19         0.47\n",
              "\n",
              "[300 rows x 2 columns]"
            ],
            "text/html": [
              "\n",
              "  <div id=\"df-5ebb3944-7e00-4efc-8e85-3b6feee35be1\">\n",
              "    <div class=\"colab-df-container\">\n",
              "      <div>\n",
              "<style scoped>\n",
              "    .dataframe tbody tr th:only-of-type {\n",
              "        vertical-align: middle;\n",
              "    }\n",
              "\n",
              "    .dataframe tbody tr th {\n",
              "        vertical-align: top;\n",
              "    }\n",
              "\n",
              "    .dataframe thead th {\n",
              "        text-align: right;\n",
              "    }\n",
              "</style>\n",
              "<table border=\"1\" class=\"dataframe\">\n",
              "  <thead>\n",
              "    <tr style=\"text-align: right;\">\n",
              "      <th></th>\n",
              "      <th>Export - Swiztzerland</th>\n",
              "      <th>Import - UK</th>\n",
              "    </tr>\n",
              "  </thead>\n",
              "  <tbody>\n",
              "    <tr>\n",
              "      <th>0</th>\n",
              "      <td>1.46</td>\n",
              "      <td>0.98</td>\n",
              "    </tr>\n",
              "    <tr>\n",
              "      <th>1</th>\n",
              "      <td>1.46</td>\n",
              "      <td>0.98</td>\n",
              "    </tr>\n",
              "    <tr>\n",
              "      <th>2</th>\n",
              "      <td>1.46</td>\n",
              "      <td>0.98</td>\n",
              "    </tr>\n",
              "    <tr>\n",
              "      <th>3</th>\n",
              "      <td>1.46</td>\n",
              "      <td>0.98</td>\n",
              "    </tr>\n",
              "    <tr>\n",
              "      <th>4</th>\n",
              "      <td>1.46</td>\n",
              "      <td>0.98</td>\n",
              "    </tr>\n",
              "    <tr>\n",
              "      <th>...</th>\n",
              "      <td>...</td>\n",
              "      <td>...</td>\n",
              "    </tr>\n",
              "    <tr>\n",
              "      <th>295</th>\n",
              "      <td>1.19</td>\n",
              "      <td>0.47</td>\n",
              "    </tr>\n",
              "    <tr>\n",
              "      <th>296</th>\n",
              "      <td>1.19</td>\n",
              "      <td>0.47</td>\n",
              "    </tr>\n",
              "    <tr>\n",
              "      <th>297</th>\n",
              "      <td>1.19</td>\n",
              "      <td>0.47</td>\n",
              "    </tr>\n",
              "    <tr>\n",
              "      <th>298</th>\n",
              "      <td>1.19</td>\n",
              "      <td>0.47</td>\n",
              "    </tr>\n",
              "    <tr>\n",
              "      <th>299</th>\n",
              "      <td>1.19</td>\n",
              "      <td>0.47</td>\n",
              "    </tr>\n",
              "  </tbody>\n",
              "</table>\n",
              "<p>300 rows × 2 columns</p>\n",
              "</div>\n",
              "      <button class=\"colab-df-convert\" onclick=\"convertToInteractive('df-5ebb3944-7e00-4efc-8e85-3b6feee35be1')\"\n",
              "              title=\"Convert this dataframe to an interactive table.\"\n",
              "              style=\"display:none;\">\n",
              "        \n",
              "  <svg xmlns=\"http://www.w3.org/2000/svg\" height=\"24px\"viewBox=\"0 0 24 24\"\n",
              "       width=\"24px\">\n",
              "    <path d=\"M0 0h24v24H0V0z\" fill=\"none\"/>\n",
              "    <path d=\"M18.56 5.44l.94 2.06.94-2.06 2.06-.94-2.06-.94-.94-2.06-.94 2.06-2.06.94zm-11 1L8.5 8.5l.94-2.06 2.06-.94-2.06-.94L8.5 2.5l-.94 2.06-2.06.94zm10 10l.94 2.06.94-2.06 2.06-.94-2.06-.94-.94-2.06-.94 2.06-2.06.94z\"/><path d=\"M17.41 7.96l-1.37-1.37c-.4-.4-.92-.59-1.43-.59-.52 0-1.04.2-1.43.59L10.3 9.45l-7.72 7.72c-.78.78-.78 2.05 0 2.83L4 21.41c.39.39.9.59 1.41.59.51 0 1.02-.2 1.41-.59l7.78-7.78 2.81-2.81c.8-.78.8-2.07 0-2.86zM5.41 20L4 18.59l7.72-7.72 1.47 1.35L5.41 20z\"/>\n",
              "  </svg>\n",
              "      </button>\n",
              "      \n",
              "  <style>\n",
              "    .colab-df-container {\n",
              "      display:flex;\n",
              "      flex-wrap:wrap;\n",
              "      gap: 12px;\n",
              "    }\n",
              "\n",
              "    .colab-df-convert {\n",
              "      background-color: #E8F0FE;\n",
              "      border: none;\n",
              "      border-radius: 50%;\n",
              "      cursor: pointer;\n",
              "      display: none;\n",
              "      fill: #1967D2;\n",
              "      height: 32px;\n",
              "      padding: 0 0 0 0;\n",
              "      width: 32px;\n",
              "    }\n",
              "\n",
              "    .colab-df-convert:hover {\n",
              "      background-color: #E2EBFA;\n",
              "      box-shadow: 0px 1px 2px rgba(60, 64, 67, 0.3), 0px 1px 3px 1px rgba(60, 64, 67, 0.15);\n",
              "      fill: #174EA6;\n",
              "    }\n",
              "\n",
              "    [theme=dark] .colab-df-convert {\n",
              "      background-color: #3B4455;\n",
              "      fill: #D2E3FC;\n",
              "    }\n",
              "\n",
              "    [theme=dark] .colab-df-convert:hover {\n",
              "      background-color: #434B5C;\n",
              "      box-shadow: 0px 1px 3px 1px rgba(0, 0, 0, 0.15);\n",
              "      filter: drop-shadow(0px 1px 2px rgba(0, 0, 0, 0.3));\n",
              "      fill: #FFFFFF;\n",
              "    }\n",
              "  </style>\n",
              "\n",
              "      <script>\n",
              "        const buttonEl =\n",
              "          document.querySelector('#df-5ebb3944-7e00-4efc-8e85-3b6feee35be1 button.colab-df-convert');\n",
              "        buttonEl.style.display =\n",
              "          google.colab.kernel.accessAllowed ? 'block' : 'none';\n",
              "\n",
              "        async function convertToInteractive(key) {\n",
              "          const element = document.querySelector('#df-5ebb3944-7e00-4efc-8e85-3b6feee35be1');\n",
              "          const dataTable =\n",
              "            await google.colab.kernel.invokeFunction('convertToInteractive',\n",
              "                                                     [key], {});\n",
              "          if (!dataTable) return;\n",
              "\n",
              "          const docLinkHtml = 'Like what you see? Visit the ' +\n",
              "            '<a target=\"_blank\" href=https://colab.research.google.com/notebooks/data_table.ipynb>data table notebook</a>'\n",
              "            + ' to learn more about interactive tables.';\n",
              "          element.innerHTML = '';\n",
              "          dataTable['output_type'] = 'display_data';\n",
              "          await google.colab.output.renderOutput(dataTable, element);\n",
              "          const docLink = document.createElement('div');\n",
              "          docLink.innerHTML = docLinkHtml;\n",
              "          element.appendChild(docLink);\n",
              "        }\n",
              "      </script>\n",
              "    </div>\n",
              "  </div>\n",
              "  "
            ]
          },
          "metadata": {},
          "execution_count": 13
        }
      ],
      "source": [
        "x = gold_value.drop(['Month','Price'],axis=1)\n",
        "x"
      ]
    },
    {
      "cell_type": "code",
      "execution_count": null,
      "id": "aae6247c",
      "metadata": {
        "execution": {
          "iopub.execute_input": "2022-01-15T18:00:24.223079Z",
          "iopub.status.busy": "2022-01-15T18:00:24.222451Z",
          "iopub.status.idle": "2022-01-15T18:00:24.229421Z",
          "shell.execute_reply": "2022-01-15T18:00:24.229899Z",
          "shell.execute_reply.started": "2022-01-15T17:36:20.564203Z"
        },
        "papermill": {
          "duration": 0.033116,
          "end_time": "2022-01-15T18:00:24.230069",
          "exception": false,
          "start_time": "2022-01-15T18:00:24.196953",
          "status": "completed"
        },
        "tags": [],
        "colab": {
          "base_uri": "https://localhost:8080/"
        },
        "id": "aae6247c",
        "outputId": "1c707774-0dfe-4488-d283-6acc886666e5"
      },
      "outputs": [
        {
          "output_type": "execute_result",
          "data": {
            "text/plain": [
              "0       399.45\n",
              "1       404.76\n",
              "2       396.21\n",
              "3       392.85\n",
              "4       391.93\n",
              "        ...   \n",
              "295    1968.63\n",
              "296    1921.92\n",
              "297    1900.27\n",
              "298    1866.30\n",
              "299    1858.42\n",
              "Name: Price, Length: 300, dtype: float64"
            ]
          },
          "metadata": {},
          "execution_count": 14
        }
      ],
      "source": [
        "y = gold_value[\"Price\"]\n",
        "y"
      ]
    },
    {
      "cell_type": "code",
      "execution_count": null,
      "id": "be8439bc",
      "metadata": {
        "execution": {
          "iopub.execute_input": "2022-01-15T18:00:24.280384Z",
          "iopub.status.busy": "2022-01-15T18:00:24.279749Z",
          "iopub.status.idle": "2022-01-15T18:00:24.286737Z",
          "shell.execute_reply": "2022-01-15T18:00:24.287299Z",
          "shell.execute_reply.started": "2022-01-15T17:37:11.303367Z"
        },
        "papermill": {
          "duration": 0.033553,
          "end_time": "2022-01-15T18:00:24.287494",
          "exception": false,
          "start_time": "2022-01-15T18:00:24.253941",
          "status": "completed"
        },
        "tags": [],
        "id": "be8439bc"
      },
      "outputs": [],
      "source": [
        "x_train,x_test,y_train,y_test = train_test_split(x,y,test_size=0.2,random_state = 2)"
      ]
    },
    {
      "cell_type": "code",
      "execution_count": null,
      "id": "bed65ca4",
      "metadata": {
        "execution": {
          "iopub.execute_input": "2022-01-15T18:00:24.337098Z",
          "iopub.status.busy": "2022-01-15T18:00:24.336486Z",
          "iopub.status.idle": "2022-01-15T18:00:24.340438Z",
          "shell.execute_reply": "2022-01-15T18:00:24.340935Z",
          "shell.execute_reply.started": "2022-01-15T17:38:39.406568Z"
        },
        "papermill": {
          "duration": 0.030191,
          "end_time": "2022-01-15T18:00:24.341097",
          "exception": false,
          "start_time": "2022-01-15T18:00:24.310906",
          "status": "completed"
        },
        "tags": [],
        "id": "bed65ca4"
      },
      "outputs": [],
      "source": [
        "model = RandomForestRegressor()"
      ]
    },
    {
      "cell_type": "code",
      "execution_count": null,
      "id": "05bc56b3",
      "metadata": {
        "execution": {
          "iopub.execute_input": "2022-01-15T18:00:24.403954Z",
          "iopub.status.busy": "2022-01-15T18:00:24.398507Z",
          "iopub.status.idle": "2022-01-15T18:00:24.574483Z",
          "shell.execute_reply": "2022-01-15T18:00:24.574944Z",
          "shell.execute_reply.started": "2022-01-15T17:39:00.568602Z"
        },
        "papermill": {
          "duration": 0.210883,
          "end_time": "2022-01-15T18:00:24.575128",
          "exception": false,
          "start_time": "2022-01-15T18:00:24.364245",
          "status": "completed"
        },
        "tags": [],
        "colab": {
          "base_uri": "https://localhost:8080/"
        },
        "id": "05bc56b3",
        "outputId": "63c179a5-9420-48a2-9676-915c8ff17bb4"
      },
      "outputs": [
        {
          "output_type": "execute_result",
          "data": {
            "text/plain": [
              "RandomForestRegressor()"
            ]
          },
          "metadata": {},
          "execution_count": 17
        }
      ],
      "source": [
        "model.fit(x_train,y_train)"
      ]
    },
    {
      "cell_type": "code",
      "execution_count": null,
      "id": "4aefcb4f",
      "metadata": {
        "execution": {
          "iopub.execute_input": "2022-01-15T18:00:24.625093Z",
          "iopub.status.busy": "2022-01-15T18:00:24.624482Z",
          "iopub.status.idle": "2022-01-15T18:00:24.641402Z",
          "shell.execute_reply": "2022-01-15T18:00:24.640870Z",
          "shell.execute_reply.started": "2022-01-15T17:39:19.372221Z"
        },
        "papermill": {
          "duration": 0.043065,
          "end_time": "2022-01-15T18:00:24.641551",
          "exception": false,
          "start_time": "2022-01-15T18:00:24.598486",
          "status": "completed"
        },
        "tags": [],
        "colab": {
          "base_uri": "https://localhost:8080/"
        },
        "id": "4aefcb4f",
        "outputId": "75725391-085d-409e-ef11-229e86b9806f"
      },
      "outputs": [
        {
          "output_type": "execute_result",
          "data": {
            "text/plain": [
              "0.9832677804942308"
            ]
          },
          "metadata": {},
          "execution_count": 18
        }
      ],
      "source": [
        "model.score(x_train,y_train)"
      ]
    },
    {
      "cell_type": "code",
      "execution_count": null,
      "id": "1adf6999",
      "metadata": {
        "execution": {
          "iopub.execute_input": "2022-01-15T18:00:24.692563Z",
          "iopub.status.busy": "2022-01-15T18:00:24.691896Z",
          "iopub.status.idle": "2022-01-15T18:00:24.707312Z",
          "shell.execute_reply": "2022-01-15T18:00:24.707909Z",
          "shell.execute_reply.started": "2022-01-15T17:39:51.210220Z"
        },
        "papermill": {
          "duration": 0.042683,
          "end_time": "2022-01-15T18:00:24.708078",
          "exception": false,
          "start_time": "2022-01-15T18:00:24.665395",
          "status": "completed"
        },
        "tags": [],
        "colab": {
          "base_uri": "https://localhost:8080/"
        },
        "id": "1adf6999",
        "outputId": "69f484d6-6e26-4108-d089-d05b34a12d38"
      },
      "outputs": [
        {
          "output_type": "execute_result",
          "data": {
            "text/plain": [
              "array([ 409.76942289, 1259.92939486, 1591.76319093, 1259.92939486,\n",
              "        286.34650676, 1259.92939486,  356.18436693,  356.18436693,\n",
              "       1159.83376477,  374.57074827, 1383.25336095,  595.65329519,\n",
              "        286.34650676, 1268.95153366,  450.38141274,  374.57074827,\n",
              "        409.76942289,  698.70809476,  878.71120256,  374.57074827,\n",
              "        286.34650676,  356.18436693, 1240.71497507, 1240.71497507,\n",
              "       1449.7684612 ,  374.57074827, 1667.1581966 , 1667.1581966 ,\n",
              "       1276.48025146, 1383.25336095,  595.65329519, 1449.7684612 ,\n",
              "       1276.48025146,  984.36316151, 1240.71497507, 1240.71497507,\n",
              "       1268.95153366, 1790.30210628,  310.11347489,  450.38141274,\n",
              "        878.71120256,  275.66448368,  286.34650676,  356.18436693,\n",
              "       1790.30210628, 1268.95153366,  595.65329519,  450.38141274,\n",
              "        310.11347489, 1240.71497507, 1159.83376477, 1276.48025146,\n",
              "        698.70809476, 1449.7684612 ,  878.71120256,  356.18436693,\n",
              "        984.36316151, 1667.1581966 , 1159.83376477, 1591.76319093])"
            ]
          },
          "metadata": {},
          "execution_count": 19
        }
      ],
      "source": [
        "gold_prediction = model.predict(x_test)\n",
        "gold_prediction"
      ]
    },
    {
      "cell_type": "code",
      "execution_count": null,
      "id": "bf3bf635",
      "metadata": {
        "execution": {
          "iopub.execute_input": "2022-01-15T18:00:24.759264Z",
          "iopub.status.busy": "2022-01-15T18:00:24.758615Z",
          "iopub.status.idle": "2022-01-15T18:00:24.765972Z",
          "shell.execute_reply": "2022-01-15T18:00:24.764964Z",
          "shell.execute_reply.started": "2022-01-15T17:41:00.700366Z"
        },
        "papermill": {
          "duration": 0.03413,
          "end_time": "2022-01-15T18:00:24.766230",
          "exception": false,
          "start_time": "2022-01-15T18:00:24.732100",
          "status": "completed"
        },
        "tags": [],
        "colab": {
          "base_uri": "https://localhost:8080/"
        },
        "id": "bf3bf635",
        "outputId": "967a8837-3f0e-48ef-e7b8-22d0b92b7330"
      },
      "outputs": [
        {
          "output_type": "stream",
          "name": "stdout",
          "text": [
            "R squared :  0.9759138370409766\n"
          ]
        }
      ],
      "source": [
        "error_score = metrics.r2_score(y_test,gold_prediction)\n",
        "print(\"R squared : \",error_score)"
      ]
    },
    {
      "cell_type": "code",
      "execution_count": null,
      "id": "54ce6dd3",
      "metadata": {
        "execution": {
          "iopub.execute_input": "2022-01-15T18:00:24.819371Z",
          "iopub.status.busy": "2022-01-15T18:00:24.818730Z",
          "iopub.status.idle": "2022-01-15T18:00:24.821937Z",
          "shell.execute_reply": "2022-01-15T18:00:24.822509Z",
          "shell.execute_reply.started": "2022-01-15T17:41:25.074215Z"
        },
        "papermill": {
          "duration": 0.030849,
          "end_time": "2022-01-15T18:00:24.822669",
          "exception": false,
          "start_time": "2022-01-15T18:00:24.791820",
          "status": "completed"
        },
        "tags": [],
        "id": "54ce6dd3"
      },
      "outputs": [],
      "source": [
        "y_test1 = list(y_test)"
      ]
    },
    {
      "cell_type": "code",
      "execution_count": null,
      "id": "03849cde",
      "metadata": {
        "execution": {
          "iopub.execute_input": "2022-01-15T18:00:24.875549Z",
          "iopub.status.busy": "2022-01-15T18:00:24.874895Z",
          "iopub.status.idle": "2022-01-15T18:00:25.065802Z",
          "shell.execute_reply": "2022-01-15T18:00:25.066351Z",
          "shell.execute_reply.started": "2022-01-15T17:41:41.611545Z"
        },
        "papermill": {
          "duration": 0.219604,
          "end_time": "2022-01-15T18:00:25.066525",
          "exception": false,
          "start_time": "2022-01-15T18:00:24.846921",
          "status": "completed"
        },
        "tags": [],
        "colab": {
          "base_uri": "https://localhost:8080/",
          "height": 295
        },
        "id": "03849cde",
        "outputId": "e6afba93-a392-4693-86ee-f1d094b4bad0"
      },
      "outputs": [
        {
          "output_type": "display_data",
          "data": {
            "text/plain": [
              "<Figure size 432x288 with 1 Axes>"
            ],
            "image/png": "[encoded data removed]"
          },
          "metadata": {
            "needs_background": "light"
          }
        }
      ],
      "source": [
        "plt.plot(gold_prediction,color=\"red\",label=\"Predicted Price\")\n",
        "plt.plot(y_test1,color=\"green\",label=\"Original Price\")\n",
        "plt.title(\"Prediction Evaluation\")\n",
        "plt.xlabel('No.of.Values')\n",
        "plt.ylabel('GOLD PRICE')\n",
        "plt.legend()\n",
        "plt.show()"
      ]
    },
    {
      "cell_type": "code",
      "execution_count": null,
      "id": "2b446303",
      "metadata": {
        "execution": {
          "iopub.execute_input": "2022-01-15T18:00:25.122106Z",
          "iopub.status.busy": "2022-01-15T18:00:25.121472Z",
          "iopub.status.idle": "2022-01-15T18:00:25.137604Z",
          "shell.execute_reply": "2022-01-15T18:00:25.136784Z",
          "shell.execute_reply.started": "2022-01-15T17:43:00.008625Z"
        },
        "papermill": {
          "duration": 0.044924,
          "end_time": "2022-01-15T18:00:25.137770",
          "exception": false,
          "start_time": "2022-01-15T18:00:25.092846",
          "status": "completed"
        },
        "tags": [],
        "colab": {
          "base_uri": "https://localhost:8080/"
        },
        "id": "2b446303",
        "outputId": "6de63514-cd3c-4533-f966-20794d1e7739"
      },
      "outputs": [
        {
          "output_type": "execute_result",
          "data": {
            "text/plain": [
              "0.9759138370409766"
            ]
          },
          "metadata": {},
          "execution_count": 23
        }
      ],
      "source": [
        "model.score(x_test,y_test)"
      ]
    }
  ],
  "metadata": {
    "kernelspec": {
      "display_name": "Python 3",
      "language": "python",
      "name": "python3"
    },
    "language_info": {
      "codemirror_mode": {
        "name": "ipython",
        "version": 3
      },
      "file_extension": ".py",
      "mimetype": "text/x-python",
      "name": "python",
      "nbconvert_exporter": "python",
      "pygments_lexer": "ipython3",
      "version": "3.7.12"
    },
    "papermill": {
      "default_parameters": {},
      "duration": 14.32381,
      "end_time": "2022-01-15T18:00:25.873834",
      "environment_variables": {},
      "exception": null,
      "input_path": "__notebook__.ipynb",
      "output_path": "__notebook__.ipynb",
      "parameters": {},
      "start_time": "2022-01-15T18:00:11.550024",
      "version": "2.3.3"
    },
    "colab": {
      "name": "ml2-gold-test.ipynb",
      "provenance": []
    }
  },
  "nbformat": 4,
  "nbformat_minor": 5
}