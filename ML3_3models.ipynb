{
 "cells": [
  {
   "cell_type": "code",
   "execution_count": 1,
   "id": "ace3af65",
   "metadata": {
    "_cell_guid": "b1076dfc-b9ad-4769-8c92-a6c4dae69d19",
    "_uuid": "8f2839f25d086af736a60e9eeb907d3b93b6e0e5",
    "execution": {
     "iopub.execute_input": "2022-01-18T22:54:50.746752Z",
     "iopub.status.busy": "2022-01-18T22:54:50.744467Z",
     "iopub.status.idle": "2022-01-18T22:54:52.117207Z",
     "shell.execute_reply": "2022-01-18T22:54:52.116645Z",
     "shell.execute_reply.started": "2022-01-18T22:36:58.297865Z"
    },
    "papermill": {
     "duration": 1.408537,
     "end_time": "2022-01-18T22:54:52.117342",
     "exception": false,
     "start_time": "2022-01-18T22:54:50.708805",
     "status": "completed"
    },
    "tags": []
   },
   "outputs": [],
   "source": [
    "# importing libraries\n",
    "\n",
    "import pandas as pd\n",
    "import numpy as np\n",
    "import matplotlib.pyplot as plt\n",
    "import seaborn as sns\n",
    "from sklearn.model_selection import train_test_split\n",
    "from sklearn.ensemble import RandomForestRegressor #this is a regression problem\n",
    "from sklearn import metrics\n",
    "import warnings\n",
    "warnings.filterwarnings('ignore')"
   ]
  },
  {
   "cell_type": "code",
   "execution_count": 2,
   "id": "0da7b3fd",
   "metadata": {
    "execution": {
     "iopub.execute_input": "2022-01-18T22:54:52.175817Z",
     "iopub.status.busy": "2022-01-18T22:54:52.175310Z",
     "iopub.status.idle": "2022-01-18T22:54:52.225329Z",
     "shell.execute_reply": "2022-01-18T22:54:52.225817Z",
     "shell.execute_reply.started": "2022-01-18T22:36:59.803560Z"
    },
    "papermill": {
     "duration": 0.081943,
     "end_time": "2022-01-18T22:54:52.225991",
     "exception": false,
     "start_time": "2022-01-18T22:54:52.144048",
     "status": "completed"
    },
    "tags": []
   },
   "outputs": [
    {
     "data": {
      "text/html": [
       "<div>\n",
       "<style scoped>\n",
       "    .dataframe tbody tr th:only-of-type {\n",
       "        vertical-align: middle;\n",
       "    }\n",
       "\n",
       "    .dataframe tbody tr th {\n",
       "        vertical-align: top;\n",
       "    }\n",
       "\n",
       "    .dataframe thead th {\n",
       "        text-align: right;\n",
       "    }\n",
       "</style>\n",
       "<table border=\"1\" class=\"dataframe\">\n",
       "  <thead>\n",
       "    <tr style=\"text-align: right;\">\n",
       "      <th></th>\n",
       "      <th>Month</th>\n",
       "      <th>Price</th>\n",
       "      <th>Export - Swiztzerland</th>\n",
       "      <th>Import - UK</th>\n",
       "    </tr>\n",
       "  </thead>\n",
       "  <tbody>\n",
       "    <tr>\n",
       "      <th>0</th>\n",
       "      <td>1/1/1996</td>\n",
       "      <td>399.45</td>\n",
       "      <td>1.46</td>\n",
       "      <td>0.98</td>\n",
       "    </tr>\n",
       "    <tr>\n",
       "      <th>1</th>\n",
       "      <td>2/1/1996</td>\n",
       "      <td>404.76</td>\n",
       "      <td>1.46</td>\n",
       "      <td>0.98</td>\n",
       "    </tr>\n",
       "    <tr>\n",
       "      <th>2</th>\n",
       "      <td>3/1/1996</td>\n",
       "      <td>396.21</td>\n",
       "      <td>1.46</td>\n",
       "      <td>0.98</td>\n",
       "    </tr>\n",
       "    <tr>\n",
       "      <th>3</th>\n",
       "      <td>4/1/1996</td>\n",
       "      <td>392.85</td>\n",
       "      <td>1.46</td>\n",
       "      <td>0.98</td>\n",
       "    </tr>\n",
       "    <tr>\n",
       "      <th>4</th>\n",
       "      <td>5/1/1996</td>\n",
       "      <td>391.93</td>\n",
       "      <td>1.46</td>\n",
       "      <td>0.98</td>\n",
       "    </tr>\n",
       "    <tr>\n",
       "      <th>...</th>\n",
       "      <td>...</td>\n",
       "      <td>...</td>\n",
       "      <td>...</td>\n",
       "      <td>...</td>\n",
       "    </tr>\n",
       "    <tr>\n",
       "      <th>295</th>\n",
       "      <td>8/1/2020</td>\n",
       "      <td>1968.63</td>\n",
       "      <td>1.19</td>\n",
       "      <td>0.47</td>\n",
       "    </tr>\n",
       "    <tr>\n",
       "      <th>296</th>\n",
       "      <td>9/1/2020</td>\n",
       "      <td>1921.92</td>\n",
       "      <td>1.19</td>\n",
       "      <td>0.47</td>\n",
       "    </tr>\n",
       "    <tr>\n",
       "      <th>297</th>\n",
       "      <td>10/1/2020</td>\n",
       "      <td>1900.27</td>\n",
       "      <td>1.19</td>\n",
       "      <td>0.47</td>\n",
       "    </tr>\n",
       "    <tr>\n",
       "      <th>298</th>\n",
       "      <td>11/1/2020</td>\n",
       "      <td>1866.30</td>\n",
       "      <td>1.19</td>\n",
       "      <td>0.47</td>\n",
       "    </tr>\n",
       "    <tr>\n",
       "      <th>299</th>\n",
       "      <td>12/1/2020</td>\n",
       "      <td>1858.42</td>\n",
       "      <td>1.19</td>\n",
       "      <td>0.47</td>\n",
       "    </tr>\n",
       "  </tbody>\n",
       "</table>\n",
       "<p>300 rows × 4 columns</p>\n",
       "</div>"
      ],
      "text/plain": [
       "         Month    Price  Export - Swiztzerland  Import - UK\n",
       "0     1/1/1996   399.45                   1.46         0.98\n",
       "1     2/1/1996   404.76                   1.46         0.98\n",
       "2     3/1/1996   396.21                   1.46         0.98\n",
       "3     4/1/1996   392.85                   1.46         0.98\n",
       "4     5/1/1996   391.93                   1.46         0.98\n",
       "..         ...      ...                    ...          ...\n",
       "295   8/1/2020  1968.63                   1.19         0.47\n",
       "296   9/1/2020  1921.92                   1.19         0.47\n",
       "297  10/1/2020  1900.27                   1.19         0.47\n",
       "298  11/1/2020  1866.30                   1.19         0.47\n",
       "299  12/1/2020  1858.42                   1.19         0.47\n",
       "\n",
       "[300 rows x 4 columns]"
      ]
     },
     "execution_count": 2,
     "metadata": {},
     "output_type": "execute_result"
    }
   ],
   "source": [
    "# load the dataset using panda\n",
    "\n",
    "gold_value = pd.read_csv(\"../input/gold-data-test/CombinedGoldDataCleaned.csv\")\n",
    "gold_value"
   ]
  },
  {
   "cell_type": "markdown",
   "id": "445d6467",
   "metadata": {
    "papermill": {
     "duration": 0.039476,
     "end_time": "2022-01-18T22:54:52.306125",
     "exception": false,
     "start_time": "2022-01-18T22:54:52.266649",
     "status": "completed"
    },
    "tags": []
   },
   "source": [
    "# Analzing the dataset"
   ]
  },
  {
   "cell_type": "code",
   "execution_count": 3,
   "id": "84f433c5",
   "metadata": {
    "execution": {
     "iopub.execute_input": "2022-01-18T22:54:52.394320Z",
     "iopub.status.busy": "2022-01-18T22:54:52.392206Z",
     "iopub.status.idle": "2022-01-18T22:54:52.397488Z",
     "shell.execute_reply": "2022-01-18T22:54:52.398061Z",
     "shell.execute_reply.started": "2022-01-18T22:36:59.845978Z"
    },
    "papermill": {
     "duration": 0.050268,
     "end_time": "2022-01-18T22:54:52.398237",
     "exception": false,
     "start_time": "2022-01-18T22:54:52.347969",
     "status": "completed"
    },
    "tags": []
   },
   "outputs": [
    {
     "data": {
      "text/plain": [
       "(300, 4)"
      ]
     },
     "execution_count": 3,
     "metadata": {},
     "output_type": "execute_result"
    }
   ],
   "source": [
    "gold_value.shape"
   ]
  },
  {
   "cell_type": "code",
   "execution_count": 4,
   "id": "df2d59c6",
   "metadata": {
    "execution": {
     "iopub.execute_input": "2022-01-18T22:54:52.488441Z",
     "iopub.status.busy": "2022-01-18T22:54:52.487585Z",
     "iopub.status.idle": "2022-01-18T22:54:52.493462Z",
     "shell.execute_reply": "2022-01-18T22:54:52.494037Z",
     "shell.execute_reply.started": "2022-01-18T22:36:59.855911Z"
    },
    "papermill": {
     "duration": 0.053407,
     "end_time": "2022-01-18T22:54:52.494209",
     "exception": false,
     "start_time": "2022-01-18T22:54:52.440802",
     "status": "completed"
    },
    "tags": []
   },
   "outputs": [
    {
     "data": {
      "text/plain": [
       "Month                     object\n",
       "Price                    float64\n",
       "Export - Swiztzerland    float64\n",
       "Import - UK              float64\n",
       "dtype: object"
      ]
     },
     "execution_count": 4,
     "metadata": {},
     "output_type": "execute_result"
    }
   ],
   "source": [
    "gold_value.dtypes"
   ]
  },
  {
   "cell_type": "code",
   "execution_count": 5,
   "id": "8953abda",
   "metadata": {
    "execution": {
     "iopub.execute_input": "2022-01-18T22:54:52.581807Z",
     "iopub.status.busy": "2022-01-18T22:54:52.581186Z",
     "iopub.status.idle": "2022-01-18T22:54:52.587192Z",
     "shell.execute_reply": "2022-01-18T22:54:52.587754Z",
     "shell.execute_reply.started": "2022-01-18T22:36:59.870559Z"
    },
    "papermill": {
     "duration": 0.050006,
     "end_time": "2022-01-18T22:54:52.587923",
     "exception": false,
     "start_time": "2022-01-18T22:54:52.537917",
     "status": "completed"
    },
    "tags": []
   },
   "outputs": [
    {
     "data": {
      "text/plain": [
       "Month                    0\n",
       "Price                    0\n",
       "Export - Swiztzerland    0\n",
       "Import - UK              0\n",
       "dtype: int64"
      ]
     },
     "execution_count": 5,
     "metadata": {},
     "output_type": "execute_result"
    }
   ],
   "source": [
    "gold_value.isna().sum()"
   ]
  },
  {
   "cell_type": "code",
   "execution_count": 6,
   "id": "9bb8fe02",
   "metadata": {
    "execution": {
     "iopub.execute_input": "2022-01-18T22:54:52.675798Z",
     "iopub.status.busy": "2022-01-18T22:54:52.675209Z",
     "iopub.status.idle": "2022-01-18T22:54:52.700657Z",
     "shell.execute_reply": "2022-01-18T22:54:52.701259Z",
     "shell.execute_reply.started": "2022-01-18T22:36:59.886621Z"
    },
    "papermill": {
     "duration": 0.070455,
     "end_time": "2022-01-18T22:54:52.701417",
     "exception": false,
     "start_time": "2022-01-18T22:54:52.630962",
     "status": "completed"
    },
    "tags": []
   },
   "outputs": [
    {
     "data": {
      "text/html": [
       "<div>\n",
       "<style scoped>\n",
       "    .dataframe tbody tr th:only-of-type {\n",
       "        vertical-align: middle;\n",
       "    }\n",
       "\n",
       "    .dataframe tbody tr th {\n",
       "        vertical-align: top;\n",
       "    }\n",
       "\n",
       "    .dataframe thead th {\n",
       "        text-align: right;\n",
       "    }\n",
       "</style>\n",
       "<table border=\"1\" class=\"dataframe\">\n",
       "  <thead>\n",
       "    <tr style=\"text-align: right;\">\n",
       "      <th></th>\n",
       "      <th>Price</th>\n",
       "      <th>Export - Swiztzerland</th>\n",
       "      <th>Import - UK</th>\n",
       "    </tr>\n",
       "  </thead>\n",
       "  <tbody>\n",
       "    <tr>\n",
       "      <th>count</th>\n",
       "      <td>300.000000</td>\n",
       "      <td>300.00000</td>\n",
       "      <td>300.000000</td>\n",
       "    </tr>\n",
       "    <tr>\n",
       "      <th>mean</th>\n",
       "      <td>870.185300</td>\n",
       "      <td>1.34960</td>\n",
       "      <td>0.536400</td>\n",
       "    </tr>\n",
       "    <tr>\n",
       "      <th>std</th>\n",
       "      <td>507.656772</td>\n",
       "      <td>0.11433</td>\n",
       "      <td>0.295136</td>\n",
       "    </tr>\n",
       "    <tr>\n",
       "      <th>min</th>\n",
       "      <td>256.080000</td>\n",
       "      <td>1.19000</td>\n",
       "      <td>0.080000</td>\n",
       "    </tr>\n",
       "    <tr>\n",
       "      <th>25%</th>\n",
       "      <td>355.537500</td>\n",
       "      <td>1.26000</td>\n",
       "      <td>0.360000</td>\n",
       "    </tr>\n",
       "    <tr>\n",
       "      <th>50%</th>\n",
       "      <td>873.675000</td>\n",
       "      <td>1.32000</td>\n",
       "      <td>0.490000</td>\n",
       "    </tr>\n",
       "    <tr>\n",
       "      <th>75%</th>\n",
       "      <td>1284.155000</td>\n",
       "      <td>1.44000</td>\n",
       "      <td>0.680000</td>\n",
       "    </tr>\n",
       "    <tr>\n",
       "      <th>max</th>\n",
       "      <td>1968.630000</td>\n",
       "      <td>1.58000</td>\n",
       "      <td>1.040000</td>\n",
       "    </tr>\n",
       "  </tbody>\n",
       "</table>\n",
       "</div>"
      ],
      "text/plain": [
       "             Price  Export - Swiztzerland  Import - UK\n",
       "count   300.000000              300.00000   300.000000\n",
       "mean    870.185300                1.34960     0.536400\n",
       "std     507.656772                0.11433     0.295136\n",
       "min     256.080000                1.19000     0.080000\n",
       "25%     355.537500                1.26000     0.360000\n",
       "50%     873.675000                1.32000     0.490000\n",
       "75%    1284.155000                1.44000     0.680000\n",
       "max    1968.630000                1.58000     1.040000"
      ]
     },
     "execution_count": 6,
     "metadata": {},
     "output_type": "execute_result"
    }
   ],
   "source": [
    "gold_value.describe()"
   ]
  },
  {
   "cell_type": "code",
   "execution_count": 7,
   "id": "214d7ddf",
   "metadata": {
    "execution": {
     "iopub.execute_input": "2022-01-18T22:54:52.794814Z",
     "iopub.status.busy": "2022-01-18T22:54:52.792278Z",
     "iopub.status.idle": "2022-01-18T22:54:52.799352Z",
     "shell.execute_reply": "2022-01-18T22:54:52.799935Z",
     "shell.execute_reply.started": "2022-01-18T22:36:59.922202Z"
    },
    "papermill": {
     "duration": 0.057328,
     "end_time": "2022-01-18T22:54:52.800117",
     "exception": false,
     "start_time": "2022-01-18T22:54:52.742789",
     "status": "completed"
    },
    "tags": []
   },
   "outputs": [
    {
     "data": {
      "text/html": [
       "<div>\n",
       "<style scoped>\n",
       "    .dataframe tbody tr th:only-of-type {\n",
       "        vertical-align: middle;\n",
       "    }\n",
       "\n",
       "    .dataframe tbody tr th {\n",
       "        vertical-align: top;\n",
       "    }\n",
       "\n",
       "    .dataframe thead th {\n",
       "        text-align: right;\n",
       "    }\n",
       "</style>\n",
       "<table border=\"1\" class=\"dataframe\">\n",
       "  <thead>\n",
       "    <tr style=\"text-align: right;\">\n",
       "      <th></th>\n",
       "      <th>Price</th>\n",
       "      <th>Export - Swiztzerland</th>\n",
       "      <th>Import - UK</th>\n",
       "    </tr>\n",
       "  </thead>\n",
       "  <tbody>\n",
       "    <tr>\n",
       "      <th>Price</th>\n",
       "      <td>1.000000</td>\n",
       "      <td>-0.397430</td>\n",
       "      <td>-0.512037</td>\n",
       "    </tr>\n",
       "    <tr>\n",
       "      <th>Export - Swiztzerland</th>\n",
       "      <td>-0.397430</td>\n",
       "      <td>1.000000</td>\n",
       "      <td>0.728343</td>\n",
       "    </tr>\n",
       "    <tr>\n",
       "      <th>Import - UK</th>\n",
       "      <td>-0.512037</td>\n",
       "      <td>0.728343</td>\n",
       "      <td>1.000000</td>\n",
       "    </tr>\n",
       "  </tbody>\n",
       "</table>\n",
       "</div>"
      ],
      "text/plain": [
       "                          Price  Export - Swiztzerland  Import - UK\n",
       "Price                  1.000000              -0.397430    -0.512037\n",
       "Export - Swiztzerland -0.397430               1.000000     0.728343\n",
       "Import - UK           -0.512037               0.728343     1.000000"
      ]
     },
     "execution_count": 7,
     "metadata": {},
     "output_type": "execute_result"
    }
   ],
   "source": [
    "corr1 = gold_value.corr(method='pearson')\n",
    "corr1"
   ]
  },
  {
   "cell_type": "code",
   "execution_count": 8,
   "id": "8b57e8f1",
   "metadata": {
    "execution": {
     "iopub.execute_input": "2022-01-18T22:54:52.887598Z",
     "iopub.status.busy": "2022-01-18T22:54:52.886992Z",
     "iopub.status.idle": "2022-01-18T22:54:53.184246Z",
     "shell.execute_reply": "2022-01-18T22:54:53.183539Z",
     "shell.execute_reply.started": "2022-01-18T22:36:59.936874Z"
    },
    "papermill": {
     "duration": 0.341904,
     "end_time": "2022-01-18T22:54:53.184352",
     "exception": false,
     "start_time": "2022-01-18T22:54:52.842448",
     "status": "completed"
    },
    "tags": []
   },
   "outputs": [
    {
     "data": {
      "image/png": "[encoded data removed]",
      "text/plain": [
       "<Figure size 720x720 with 2 Axes>"
      ]
     },
     "metadata": {
      "needs_background": "light"
     },
     "output_type": "display_data"
    }
   ],
   "source": [
    "#heatmap\n",
    "plt.figure(figsize = (10,10))\n",
    "sns.heatmap(corr1, cbar=True, square=True, fmt='.1f',annot=True, annot_kws={'size':10}, cmap='Greys');"
   ]
  },
  {
   "cell_type": "code",
   "execution_count": 9,
   "id": "bedccf4f",
   "metadata": {
    "execution": {
     "iopub.execute_input": "2022-01-18T22:54:53.243024Z",
     "iopub.status.busy": "2022-01-18T22:54:53.242190Z",
     "iopub.status.idle": "2022-01-18T22:54:53.248230Z",
     "shell.execute_reply": "2022-01-18T22:54:53.247719Z",
     "shell.execute_reply.started": "2022-01-18T22:37:00.252522Z"
    },
    "papermill": {
     "duration": 0.036298,
     "end_time": "2022-01-18T22:54:53.248359",
     "exception": false,
     "start_time": "2022-01-18T22:54:53.212061",
     "status": "completed"
    },
    "tags": []
   },
   "outputs": [
    {
     "data": {
      "text/plain": [
       "Price                    1.000000\n",
       "Export - Swiztzerland   -0.397430\n",
       "Import - UK             -0.512037\n",
       "Name: Price, dtype: float64"
      ]
     },
     "execution_count": 9,
     "metadata": {},
     "output_type": "execute_result"
    }
   ],
   "source": [
    "corr1['Price']"
   ]
  },
  {
   "cell_type": "code",
   "execution_count": 10,
   "id": "4f1b55ad",
   "metadata": {
    "execution": {
     "iopub.execute_input": "2022-01-18T22:54:53.337202Z",
     "iopub.status.busy": "2022-01-18T22:54:53.336598Z",
     "iopub.status.idle": "2022-01-18T22:54:53.547238Z",
     "shell.execute_reply": "2022-01-18T22:54:53.547606Z",
     "shell.execute_reply.started": "2022-01-18T22:37:00.263782Z"
    },
    "papermill": {
     "duration": 0.256203,
     "end_time": "2022-01-18T22:54:53.547756",
     "exception": false,
     "start_time": "2022-01-18T22:54:53.291553",
     "status": "completed"
    },
    "tags": []
   },
   "outputs": [
    {
     "data": {
      "image/png": "[encoded data removed]",
      "text/plain": [
       "<Figure size 432x288 with 1 Axes>"
      ]
     },
     "metadata": {
      "needs_background": "light"
     },
     "output_type": "display_data"
    }
   ],
   "source": [
    "sns.distplot(gold_value['Price'],color='red');"
   ]
  },
  {
   "cell_type": "code",
   "execution_count": 11,
   "id": "f5da3db3",
   "metadata": {
    "execution": {
     "iopub.execute_input": "2022-01-18T22:54:53.607867Z",
     "iopub.status.busy": "2022-01-18T22:54:53.607402Z",
     "iopub.status.idle": "2022-01-18T22:54:53.618192Z",
     "shell.execute_reply": "2022-01-18T22:54:53.617501Z",
     "shell.execute_reply.started": "2022-01-18T22:37:00.513016Z"
    },
    "papermill": {
     "duration": 0.041198,
     "end_time": "2022-01-18T22:54:53.618327",
     "exception": false,
     "start_time": "2022-01-18T22:54:53.577129",
     "status": "completed"
    },
    "tags": []
   },
   "outputs": [
    {
     "name": "stdout",
     "output_type": "stream",
     "text": [
      "Month 300\n",
      "Price 300\n",
      "Export - Swiztzerland 18\n",
      "Import - UK 21\n"
     ]
    }
   ],
   "source": [
    "#Find features with one value\n",
    "for column in gold_value.columns:\n",
    "    print(column, gold_value[column].nunique())"
   ]
  },
  {
   "cell_type": "code",
   "execution_count": 12,
   "id": "8bedf820",
   "metadata": {
    "execution": {
     "iopub.execute_input": "2022-01-18T22:54:53.714021Z",
     "iopub.status.busy": "2022-01-18T22:54:53.713411Z",
     "iopub.status.idle": "2022-01-18T22:54:53.717601Z",
     "shell.execute_reply": "2022-01-18T22:54:53.717023Z",
     "shell.execute_reply.started": "2022-01-18T22:43:10.589774Z"
    },
    "papermill": {
     "duration": 0.054665,
     "end_time": "2022-01-18T22:54:53.717727",
     "exception": false,
     "start_time": "2022-01-18T22:54:53.663062",
     "status": "completed"
    },
    "tags": []
   },
   "outputs": [
    {
     "data": {
      "text/plain": [
       "['Month']"
      ]
     },
     "execution_count": 12,
     "metadata": {},
     "output_type": "execute_result"
    }
   ],
   "source": [
    "categorical_features = [feature for feature in gold_value.columns if ((gold_value[feature].dtypes=='O') & (feature not in ['Price']))]\n",
    "categorical_features"
   ]
  },
  {
   "cell_type": "code",
   "execution_count": 13,
   "id": "d56265b6",
   "metadata": {
    "execution": {
     "iopub.execute_input": "2022-01-18T22:54:53.814530Z",
     "iopub.status.busy": "2022-01-18T22:54:53.813877Z",
     "iopub.status.idle": "2022-01-18T22:54:53.817386Z",
     "shell.execute_reply": "2022-01-18T22:54:53.817986Z",
     "shell.execute_reply.started": "2022-01-18T22:43:35.473965Z"
    },
    "papermill": {
     "duration": 0.054629,
     "end_time": "2022-01-18T22:54:53.818161",
     "exception": false,
     "start_time": "2022-01-18T22:54:53.763532",
     "status": "completed"
    },
    "tags": []
   },
   "outputs": [
    {
     "name": "stdout",
     "output_type": "stream",
     "text": [
      "The feature is Month and number of categories are 300\n"
     ]
    }
   ],
   "source": [
    "for feature in categorical_features:\n",
    "    print('The feature is {} and number of categories are {}'.format(feature,len(gold_value[feature].unique())))"
   ]
  },
  {
   "cell_type": "code",
   "execution_count": 14,
   "id": "e5e5f952",
   "metadata": {
    "execution": {
     "iopub.execute_input": "2022-01-18T22:54:53.916707Z",
     "iopub.status.busy": "2022-01-18T22:54:53.916039Z",
     "iopub.status.idle": "2022-01-18T22:54:53.926077Z",
     "shell.execute_reply": "2022-01-18T22:54:53.926667Z",
     "shell.execute_reply.started": "2022-01-18T22:43:50.232606Z"
    },
    "papermill": {
     "duration": 0.062681,
     "end_time": "2022-01-18T22:54:53.926852",
     "exception": false,
     "start_time": "2022-01-18T22:54:53.864171",
     "status": "completed"
    },
    "tags": []
   },
   "outputs": [
    {
     "name": "stdout",
     "output_type": "stream",
     "text": [
      "Number of numerical variables:  2\n"
     ]
    },
    {
     "data": {
      "text/html": [
       "<div>\n",
       "<style scoped>\n",
       "    .dataframe tbody tr th:only-of-type {\n",
       "        vertical-align: middle;\n",
       "    }\n",
       "\n",
       "    .dataframe tbody tr th {\n",
       "        vertical-align: top;\n",
       "    }\n",
       "\n",
       "    .dataframe thead th {\n",
       "        text-align: right;\n",
       "    }\n",
       "</style>\n",
       "<table border=\"1\" class=\"dataframe\">\n",
       "  <thead>\n",
       "    <tr style=\"text-align: right;\">\n",
       "      <th></th>\n",
       "      <th>Export - Swiztzerland</th>\n",
       "      <th>Import - UK</th>\n",
       "    </tr>\n",
       "  </thead>\n",
       "  <tbody>\n",
       "    <tr>\n",
       "      <th>0</th>\n",
       "      <td>1.46</td>\n",
       "      <td>0.98</td>\n",
       "    </tr>\n",
       "    <tr>\n",
       "      <th>1</th>\n",
       "      <td>1.46</td>\n",
       "      <td>0.98</td>\n",
       "    </tr>\n",
       "    <tr>\n",
       "      <th>2</th>\n",
       "      <td>1.46</td>\n",
       "      <td>0.98</td>\n",
       "    </tr>\n",
       "    <tr>\n",
       "      <th>3</th>\n",
       "      <td>1.46</td>\n",
       "      <td>0.98</td>\n",
       "    </tr>\n",
       "    <tr>\n",
       "      <th>4</th>\n",
       "      <td>1.46</td>\n",
       "      <td>0.98</td>\n",
       "    </tr>\n",
       "  </tbody>\n",
       "</table>\n",
       "</div>"
      ],
      "text/plain": [
       "   Export - Swiztzerland  Import - UK\n",
       "0                   1.46         0.98\n",
       "1                   1.46         0.98\n",
       "2                   1.46         0.98\n",
       "3                   1.46         0.98\n",
       "4                   1.46         0.98"
      ]
     },
     "execution_count": 14,
     "metadata": {},
     "output_type": "execute_result"
    }
   ],
   "source": [
    "numerical_features = [feature for feature in gold_value.columns if ((gold_value[feature].dtypes != 'O') & (feature not in ['Price']))]\n",
    "print('Number of numerical variables: ', len(numerical_features))\n",
    "gold_value[numerical_features].head()"
   ]
  },
  {
   "cell_type": "code",
   "execution_count": 15,
   "id": "41c03e7c",
   "metadata": {
    "execution": {
     "iopub.execute_input": "2022-01-18T22:54:54.024708Z",
     "iopub.status.busy": "2022-01-18T22:54:54.024095Z",
     "iopub.status.idle": "2022-01-18T22:54:54.026725Z",
     "shell.execute_reply": "2022-01-18T22:54:54.027291Z",
     "shell.execute_reply.started": "2022-01-18T22:46:58.527536Z"
    },
    "papermill": {
     "duration": 0.054118,
     "end_time": "2022-01-18T22:54:54.027604",
     "exception": false,
     "start_time": "2022-01-18T22:54:53.973486",
     "status": "completed"
    },
    "tags": []
   },
   "outputs": [
    {
     "name": "stdout",
     "output_type": "stream",
     "text": [
      "Discrete variables count: 2\n"
     ]
    }
   ],
   "source": [
    "discrete_feature = [feature for feature in numerical_features if len(gold_value[feature].unique())<25]\n",
    "print('Discrete variables count: {}'.format(len(discrete_feature)))"
   ]
  },
  {
   "cell_type": "code",
   "execution_count": 16,
   "id": "e9e4c85f",
   "metadata": {
    "execution": {
     "iopub.execute_input": "2022-01-18T22:54:54.123754Z",
     "iopub.status.busy": "2022-01-18T22:54:54.123169Z",
     "iopub.status.idle": "2022-01-18T22:54:54.128111Z",
     "shell.execute_reply": "2022-01-18T22:54:54.127670Z",
     "shell.execute_reply.started": "2022-01-18T22:47:53.372516Z"
    },
    "papermill": {
     "duration": 0.053655,
     "end_time": "2022-01-18T22:54:54.128221",
     "exception": false,
     "start_time": "2022-01-18T22:54:54.074566",
     "status": "completed"
    },
    "tags": []
   },
   "outputs": [
    {
     "name": "stdout",
     "output_type": "stream",
     "text": [
      "Continuous feature count 0\n"
     ]
    }
   ],
   "source": [
    "continuous_features=[feature for feature in numerical_features if feature not in discrete_feature+['Price']]\n",
    "print(\"Continuous feature count {}\".format(len(continuous_features)))"
   ]
  },
  {
   "cell_type": "code",
   "execution_count": 17,
   "id": "6844af96",
   "metadata": {
    "execution": {
     "iopub.execute_input": "2022-01-18T22:54:54.193970Z",
     "iopub.status.busy": "2022-01-18T22:54:54.193489Z",
     "iopub.status.idle": "2022-01-18T22:54:54.200763Z",
     "shell.execute_reply": "2022-01-18T22:54:54.201210Z",
     "shell.execute_reply.started": "2022-01-18T22:48:18.199104Z"
    },
    "papermill": {
     "duration": 0.041681,
     "end_time": "2022-01-18T22:54:54.201350",
     "exception": false,
     "start_time": "2022-01-18T22:54:54.159669",
     "status": "completed"
    },
    "tags": []
   },
   "outputs": [
    {
     "data": {
      "text/plain": [
       "<Figure size 1440x4320 with 0 Axes>"
      ]
     },
     "metadata": {},
     "output_type": "display_data"
    }
   ],
   "source": [
    "plt.figure(figsize=(20,60), facecolor='white')\n",
    "plotnumber = 1\n",
    "for continuous_feature in continuous_features:\n",
    "    ax = plt.subplot(12,3,plotnumber)\n",
    "    sns.distplot(gold_value[continuous_feature])\n",
    "    plotnumber+=1\n",
    "plt.show()"
   ]
  },
  {
   "cell_type": "code",
   "execution_count": 18,
   "id": "9b6bb23c",
   "metadata": {
    "execution": {
     "iopub.execute_input": "2022-01-18T22:54:54.265447Z",
     "iopub.status.busy": "2022-01-18T22:54:54.265023Z",
     "iopub.status.idle": "2022-01-18T22:54:54.465668Z",
     "shell.execute_reply": "2022-01-18T22:54:54.465278Z",
     "shell.execute_reply.started": "2022-01-18T22:48:18.211105Z"
    },
    "papermill": {
     "duration": 0.233501,
     "end_time": "2022-01-18T22:54:54.465774",
     "exception": false,
     "start_time": "2022-01-18T22:54:54.232273",
     "status": "completed"
    },
    "tags": []
   },
   "outputs": [
    {
     "data": {
      "image/png": "[encoded data removed]",
      "text/plain": [
       "<Figure size 1440x4320 with 2 Axes>"
      ]
     },
     "metadata": {},
     "output_type": "display_data"
    }
   ],
   "source": [
    "plt.figure(figsize=(20,60), facecolor='white')\n",
    "plotnumber = 1\n",
    "for numerical_feature in numerical_features:\n",
    "    ax = plt.subplot(12,3,plotnumber)\n",
    "    sns.boxplot(gold_value[numerical_feature])\n",
    "    plt.xlabel(numerical_feature)\n",
    "    plotnumber+=1\n",
    "plt.show()"
   ]
  },
  {
   "cell_type": "code",
   "execution_count": 19,
   "id": "097fb56b",
   "metadata": {
    "execution": {
     "iopub.execute_input": "2022-01-18T22:54:54.533993Z",
     "iopub.status.busy": "2022-01-18T22:54:54.533327Z",
     "iopub.status.idle": "2022-01-18T22:54:54.738753Z",
     "shell.execute_reply": "2022-01-18T22:54:54.738346Z",
     "shell.execute_reply.started": "2022-01-18T22:48:18.475407Z"
    },
    "papermill": {
     "duration": 0.242,
     "end_time": "2022-01-18T22:54:54.738855",
     "exception": false,
     "start_time": "2022-01-18T22:54:54.496855",
     "status": "completed"
    },
    "tags": []
   },
   "outputs": [
    {
     "data": {
      "image/png": "[encoded data removed]",
      "text/plain": [
       "<Figure size 1080x504 with 2 Axes>"
      ]
     },
     "metadata": {
      "needs_background": "light"
     },
     "output_type": "display_data"
    }
   ],
   "source": [
    "cor_mat = gold_value.corr()\n",
    "fig = plt.figure(figsize=(15,7))\n",
    "sns.heatmap(cor_mat, annot=True)\n",
    "plt.show()"
   ]
  },
  {
   "cell_type": "code",
   "execution_count": 20,
   "id": "3806a0fe",
   "metadata": {
    "execution": {
     "iopub.execute_input": "2022-01-18T22:54:54.809457Z",
     "iopub.status.busy": "2022-01-18T22:54:54.807291Z",
     "iopub.status.idle": "2022-01-18T22:54:54.813169Z",
     "shell.execute_reply": "2022-01-18T22:54:54.813905Z",
     "shell.execute_reply.started": "2022-01-18T22:48:18.734075Z"
    },
    "papermill": {
     "duration": 0.042025,
     "end_time": "2022-01-18T22:54:54.814120",
     "exception": false,
     "start_time": "2022-01-18T22:54:54.772095",
     "status": "completed"
    },
    "tags": []
   },
   "outputs": [
    {
     "name": "stdout",
     "output_type": "stream",
     "text": [
      "Price                    1.000000\n",
      "Export - Swiztzerland   -0.397430\n",
      "Import - UK             -0.512037\n",
      "Name: Price, dtype: float64 \n",
      "\n"
     ]
    }
   ],
   "source": [
    "print(cor_mat['Price'].sort_values(ascending=False), '\\n')"
   ]
  },
  {
   "cell_type": "code",
   "execution_count": 21,
   "id": "11a27718",
   "metadata": {
    "execution": {
     "iopub.execute_input": "2022-01-18T22:54:54.881331Z",
     "iopub.status.busy": "2022-01-18T22:54:54.880865Z",
     "iopub.status.idle": "2022-01-18T22:54:54.890926Z",
     "shell.execute_reply": "2022-01-18T22:54:54.890479Z",
     "shell.execute_reply.started": "2022-01-18T22:48:18.742189Z"
    },
    "papermill": {
     "duration": 0.044404,
     "end_time": "2022-01-18T22:54:54.891043",
     "exception": false,
     "start_time": "2022-01-18T22:54:54.846639",
     "status": "completed"
    },
    "tags": []
   },
   "outputs": [
    {
     "data": {
      "text/html": [
       "<div>\n",
       "<style scoped>\n",
       "    .dataframe tbody tr th:only-of-type {\n",
       "        vertical-align: middle;\n",
       "    }\n",
       "\n",
       "    .dataframe tbody tr th {\n",
       "        vertical-align: top;\n",
       "    }\n",
       "\n",
       "    .dataframe thead th {\n",
       "        text-align: right;\n",
       "    }\n",
       "</style>\n",
       "<table border=\"1\" class=\"dataframe\">\n",
       "  <thead>\n",
       "    <tr style=\"text-align: right;\">\n",
       "      <th></th>\n",
       "      <th>Export - Swiztzerland</th>\n",
       "      <th>Import - UK</th>\n",
       "    </tr>\n",
       "  </thead>\n",
       "  <tbody>\n",
       "    <tr>\n",
       "      <th>0</th>\n",
       "      <td>1.46</td>\n",
       "      <td>0.98</td>\n",
       "    </tr>\n",
       "    <tr>\n",
       "      <th>1</th>\n",
       "      <td>1.46</td>\n",
       "      <td>0.98</td>\n",
       "    </tr>\n",
       "    <tr>\n",
       "      <th>2</th>\n",
       "      <td>1.46</td>\n",
       "      <td>0.98</td>\n",
       "    </tr>\n",
       "    <tr>\n",
       "      <th>3</th>\n",
       "      <td>1.46</td>\n",
       "      <td>0.98</td>\n",
       "    </tr>\n",
       "    <tr>\n",
       "      <th>4</th>\n",
       "      <td>1.46</td>\n",
       "      <td>0.98</td>\n",
       "    </tr>\n",
       "    <tr>\n",
       "      <th>...</th>\n",
       "      <td>...</td>\n",
       "      <td>...</td>\n",
       "    </tr>\n",
       "    <tr>\n",
       "      <th>295</th>\n",
       "      <td>1.19</td>\n",
       "      <td>0.47</td>\n",
       "    </tr>\n",
       "    <tr>\n",
       "      <th>296</th>\n",
       "      <td>1.19</td>\n",
       "      <td>0.47</td>\n",
       "    </tr>\n",
       "    <tr>\n",
       "      <th>297</th>\n",
       "      <td>1.19</td>\n",
       "      <td>0.47</td>\n",
       "    </tr>\n",
       "    <tr>\n",
       "      <th>298</th>\n",
       "      <td>1.19</td>\n",
       "      <td>0.47</td>\n",
       "    </tr>\n",
       "    <tr>\n",
       "      <th>299</th>\n",
       "      <td>1.19</td>\n",
       "      <td>0.47</td>\n",
       "    </tr>\n",
       "  </tbody>\n",
       "</table>\n",
       "<p>300 rows × 2 columns</p>\n",
       "</div>"
      ],
      "text/plain": [
       "     Export - Swiztzerland  Import - UK\n",
       "0                     1.46         0.98\n",
       "1                     1.46         0.98\n",
       "2                     1.46         0.98\n",
       "3                     1.46         0.98\n",
       "4                     1.46         0.98\n",
       "..                     ...          ...\n",
       "295                   1.19         0.47\n",
       "296                   1.19         0.47\n",
       "297                   1.19         0.47\n",
       "298                   1.19         0.47\n",
       "299                   1.19         0.47\n",
       "\n",
       "[300 rows x 2 columns]"
      ]
     },
     "execution_count": 21,
     "metadata": {},
     "output_type": "execute_result"
    }
   ],
   "source": [
    "x = gold_value.drop(['Month','Price'],axis=1)\n",
    "x"
   ]
  },
  {
   "cell_type": "code",
   "execution_count": 22,
   "id": "80c49161",
   "metadata": {
    "execution": {
     "iopub.execute_input": "2022-01-18T22:54:54.959501Z",
     "iopub.status.busy": "2022-01-18T22:54:54.958840Z",
     "iopub.status.idle": "2022-01-18T22:54:54.966203Z",
     "shell.execute_reply": "2022-01-18T22:54:54.966754Z",
     "shell.execute_reply.started": "2022-01-18T22:48:18.769986Z"
    },
    "papermill": {
     "duration": 0.043212,
     "end_time": "2022-01-18T22:54:54.966889",
     "exception": false,
     "start_time": "2022-01-18T22:54:54.923677",
     "status": "completed"
    },
    "tags": []
   },
   "outputs": [
    {
     "data": {
      "text/plain": [
       "0       399.45\n",
       "1       404.76\n",
       "2       396.21\n",
       "3       392.85\n",
       "4       391.93\n",
       "        ...   \n",
       "295    1968.63\n",
       "296    1921.92\n",
       "297    1900.27\n",
       "298    1866.30\n",
       "299    1858.42\n",
       "Name: Price, Length: 300, dtype: float64"
      ]
     },
     "execution_count": 22,
     "metadata": {},
     "output_type": "execute_result"
    }
   ],
   "source": [
    "y = gold_value[\"Price\"]\n",
    "y"
   ]
  },
  {
   "cell_type": "code",
   "execution_count": 23,
   "id": "11dbc9e9",
   "metadata": {
    "execution": {
     "iopub.execute_input": "2022-01-18T22:54:55.071029Z",
     "iopub.status.busy": "2022-01-18T22:54:55.069732Z",
     "iopub.status.idle": "2022-01-18T22:54:55.077044Z",
     "shell.execute_reply": "2022-01-18T22:54:55.077494Z",
     "shell.execute_reply.started": "2022-01-18T22:48:18.785406Z"
    },
    "papermill": {
     "duration": 0.060705,
     "end_time": "2022-01-18T22:54:55.077618",
     "exception": false,
     "start_time": "2022-01-18T22:54:55.016913",
     "status": "completed"
    },
    "tags": []
   },
   "outputs": [],
   "source": [
    "x_train,x_test,y_train,y_test = train_test_split(x,y,test_size=0.2,random_state = 2)"
   ]
  },
  {
   "cell_type": "code",
   "execution_count": 24,
   "id": "8d0ebad9",
   "metadata": {
    "execution": {
     "iopub.execute_input": "2022-01-18T22:54:55.146804Z",
     "iopub.status.busy": "2022-01-18T22:54:55.145728Z",
     "iopub.status.idle": "2022-01-18T22:54:55.264860Z",
     "shell.execute_reply": "2022-01-18T22:54:55.264262Z",
     "shell.execute_reply.started": "2022-01-18T22:48:18.799574Z"
    },
    "papermill": {
     "duration": 0.154228,
     "end_time": "2022-01-18T22:54:55.264993",
     "exception": false,
     "start_time": "2022-01-18T22:54:55.110765",
     "status": "completed"
    },
    "tags": []
   },
   "outputs": [],
   "source": [
    "from sklearn.tree import DecisionTreeRegressor\n",
    "from xgboost import XGBRegressor\n",
    "from sklearn.ensemble import RandomForestRegressor\n",
    "from sklearn.model_selection import ShuffleSplit\n",
    "from sklearn.model_selection import GridSearchCV"
   ]
  },
  {
   "cell_type": "code",
   "execution_count": 25,
   "id": "a0ad7a4e",
   "metadata": {
    "execution": {
     "iopub.execute_input": "2022-01-18T22:54:55.376553Z",
     "iopub.status.busy": "2022-01-18T22:54:55.369638Z",
     "iopub.status.idle": "2022-01-18T22:54:55.378601Z",
     "shell.execute_reply": "2022-01-18T22:54:55.379141Z",
     "shell.execute_reply.started": "2022-01-18T22:52:49.259281Z"
    },
    "papermill": {
     "duration": 0.062837,
     "end_time": "2022-01-18T22:54:55.379301",
     "exception": false,
     "start_time": "2022-01-18T22:54:55.316464",
     "status": "completed"
    },
    "tags": []
   },
   "outputs": [],
   "source": [
    "def find_best_model_using_gridsearchcv(x,y):\n",
    "    algos = {\n",
    "        'decision_tree': {\n",
    "            'model': DecisionTreeRegressor(),\n",
    "            'params': {\n",
    "                'criterion': ['mse', 'friedman_mse'],\n",
    "                'splitter': ['best', 'random']\n",
    "            }\n",
    "        },\n",
    "        'RandomForestRegressor': {\n",
    "            'model': RandomForestRegressor(),\n",
    "            'params': {\n",
    "                'n_estimators': [10, 50 , 100, 130],\n",
    "                'criterion': ['mse'],\n",
    "                'max_depth': range(2,4,1),\n",
    "                'max_features': ['auto', 'log2']\n",
    "            }\n",
    "        },\n",
    "        'XGBRegressor': {\n",
    "            'model': XGBRegressor(),\n",
    "            'params': {\n",
    "                'learning_rate': [0.5, 0.1, 0.01],\n",
    "                'max_depth': [2,3],\n",
    "                'n_estimators': [10, 50, 100, 200]\n",
    "            }\n",
    "        }\n",
    "    }\n",
    "    scores = []\n",
    "    cv = ShuffleSplit(n_splits=5, test_size=0.2, random_state=0)\n",
    "    for algo_name, config in algos.items():\n",
    "        gs = GridSearchCV(config['model'], config['params'], cv=cv, return_train_score=False)\n",
    "        gs.fit(x,y)\n",
    "        scores.append({\n",
    "            'model': algo_name,\n",
    "            'best_score': gs.best_score_,\n",
    "            'best_params': gs.best_params_\n",
    "        })\n",
    "    return pd.DataFrame(scores, columns=['model', ' best_score', 'best_params'])"
   ]
  },
  {
   "cell_type": "code",
   "execution_count": 26,
   "id": "32bf68a8",
   "metadata": {
    "execution": {
     "iopub.execute_input": "2022-01-18T22:54:55.484787Z",
     "iopub.status.busy": "2022-01-18T22:54:55.483954Z",
     "iopub.status.idle": "2022-01-18T22:55:26.000970Z",
     "shell.execute_reply": "2022-01-18T22:55:26.001387Z",
     "shell.execute_reply.started": "2022-01-18T22:52:53.609113Z"
    },
    "papermill": {
     "duration": 30.571147,
     "end_time": "2022-01-18T22:55:26.001516",
     "exception": false,
     "start_time": "2022-01-18T22:54:55.430369",
     "status": "completed"
    },
    "tags": []
   },
   "outputs": [
    {
     "data": {
      "text/html": [
       "<div>\n",
       "<style scoped>\n",
       "    .dataframe tbody tr th:only-of-type {\n",
       "        vertical-align: middle;\n",
       "    }\n",
       "\n",
       "    .dataframe tbody tr th {\n",
       "        vertical-align: top;\n",
       "    }\n",
       "\n",
       "    .dataframe thead th {\n",
       "        text-align: right;\n",
       "    }\n",
       "</style>\n",
       "<table border=\"1\" class=\"dataframe\">\n",
       "  <thead>\n",
       "    <tr style=\"text-align: right;\">\n",
       "      <th></th>\n",
       "      <th>model</th>\n",
       "      <th>best_score</th>\n",
       "      <th>best_params</th>\n",
       "    </tr>\n",
       "  </thead>\n",
       "  <tbody>\n",
       "    <tr>\n",
       "      <th>0</th>\n",
       "      <td>decision_tree</td>\n",
       "      <td>NaN</td>\n",
       "      <td>{'criterion': 'mse', 'splitter': 'best'}</td>\n",
       "    </tr>\n",
       "    <tr>\n",
       "      <th>1</th>\n",
       "      <td>RandomForestRegressor</td>\n",
       "      <td>NaN</td>\n",
       "      <td>{'criterion': 'mse', 'max_depth': 3, 'max_features': 'log2', 'n_estimators': 100}</td>\n",
       "    </tr>\n",
       "    <tr>\n",
       "      <th>2</th>\n",
       "      <td>XGBRegressor</td>\n",
       "      <td>NaN</td>\n",
       "      <td>{'learning_rate': 0.5, 'max_depth': 2, 'n_estimators': 100}</td>\n",
       "    </tr>\n",
       "  </tbody>\n",
       "</table>\n",
       "</div>"
      ],
      "text/plain": [
       "                   model   best_score  \\\n",
       "0          decision_tree          NaN   \n",
       "1  RandomForestRegressor          NaN   \n",
       "2           XGBRegressor          NaN   \n",
       "\n",
       "                                                                         best_params  \n",
       "0                                           {'criterion': 'mse', 'splitter': 'best'}  \n",
       "1  {'criterion': 'mse', 'max_depth': 3, 'max_features': 'log2', 'n_estimators': 100}  \n",
       "2                        {'learning_rate': 0.5, 'max_depth': 2, 'n_estimators': 100}  "
      ]
     },
     "execution_count": 26,
     "metadata": {},
     "output_type": "execute_result"
    }
   ],
   "source": [
    "pd.set_option('display.max_colwidth', 100)\n",
    "find_best_model_using_gridsearchcv(x,y)"
   ]
  },
  {
   "cell_type": "code",
   "execution_count": 27,
   "id": "7b8b90f2",
   "metadata": {
    "execution": {
     "iopub.execute_input": "2022-01-18T22:55:26.073498Z",
     "iopub.status.busy": "2022-01-18T22:55:26.072972Z",
     "iopub.status.idle": "2022-01-18T22:55:26.075950Z",
     "shell.execute_reply": "2022-01-18T22:55:26.076409Z",
     "shell.execute_reply.started": "2022-01-18T22:53:27.781618Z"
    },
    "papermill": {
     "duration": 0.040747,
     "end_time": "2022-01-18T22:55:26.076541",
     "exception": false,
     "start_time": "2022-01-18T22:55:26.035794",
     "status": "completed"
    },
    "tags": []
   },
   "outputs": [],
   "source": [
    "model_xgb = XGBRegressor()"
   ]
  },
  {
   "cell_type": "code",
   "execution_count": 28,
   "id": "a5d55e82",
   "metadata": {
    "execution": {
     "iopub.execute_input": "2022-01-18T22:55:26.146321Z",
     "iopub.status.busy": "2022-01-18T22:55:26.145862Z",
     "iopub.status.idle": "2022-01-18T22:55:26.338138Z",
     "shell.execute_reply": "2022-01-18T22:55:26.338481Z",
     "shell.execute_reply.started": "2022-01-18T22:53:27.787441Z"
    },
    "papermill": {
     "duration": 0.228305,
     "end_time": "2022-01-18T22:55:26.338616",
     "exception": false,
     "start_time": "2022-01-18T22:55:26.110311",
     "status": "completed"
    },
    "tags": []
   },
   "outputs": [
    {
     "data": {
      "text/plain": [
       "XGBRegressor(base_score=0.5, booster='gbtree', colsample_bylevel=1,\n",
       "             colsample_bynode=1, colsample_bytree=1, enable_categorical=False,\n",
       "             gamma=0, gpu_id=-1, importance_type=None,\n",
       "             interaction_constraints='', learning_rate=0.300000012,\n",
       "             max_delta_step=0, max_depth=6, min_child_weight=1, missing=nan,\n",
       "             monotone_constraints='()', n_estimators=100, n_jobs=4,\n",
       "             num_parallel_tree=1, predictor='auto', random_state=0, reg_alpha=0,\n",
       "             reg_lambda=1, scale_pos_weight=1, subsample=1, tree_method='exact',\n",
       "             validate_parameters=1, verbosity=None)"
      ]
     },
     "execution_count": 28,
     "metadata": {},
     "output_type": "execute_result"
    }
   ],
   "source": [
    "model_xgb.fit(x_train,y_train)"
   ]
  },
  {
   "cell_type": "code",
   "execution_count": 29,
   "id": "e7215961",
   "metadata": {
    "execution": {
     "iopub.execute_input": "2022-01-18T22:55:26.409392Z",
     "iopub.status.busy": "2022-01-18T22:55:26.408702Z",
     "iopub.status.idle": "2022-01-18T22:55:26.422194Z",
     "shell.execute_reply": "2022-01-18T22:55:26.422582Z",
     "shell.execute_reply.started": "2022-01-18T22:53:28.048808Z"
    },
    "papermill": {
     "duration": 0.050489,
     "end_time": "2022-01-18T22:55:26.422737",
     "exception": false,
     "start_time": "2022-01-18T22:55:26.372248",
     "status": "completed"
    },
    "tags": []
   },
   "outputs": [
    {
     "data": {
      "text/plain": [
       "0.975354056162952"
      ]
     },
     "execution_count": 29,
     "metadata": {},
     "output_type": "execute_result"
    }
   ],
   "source": [
    "model_xgb.score(x_test, y_test)"
   ]
  },
  {
   "cell_type": "code",
   "execution_count": 30,
   "id": "e910ace2",
   "metadata": {
    "execution": {
     "iopub.execute_input": "2022-01-18T22:55:26.498169Z",
     "iopub.status.busy": "2022-01-18T22:55:26.497125Z",
     "iopub.status.idle": "2022-01-18T22:55:26.512871Z",
     "shell.execute_reply": "2022-01-18T22:55:26.513460Z",
     "shell.execute_reply.started": "2022-01-18T22:53:28.064525Z"
    },
    "papermill": {
     "duration": 0.056183,
     "end_time": "2022-01-18T22:55:26.513635",
     "exception": false,
     "start_time": "2022-01-18T22:55:26.457452",
     "status": "completed"
    },
    "tags": []
   },
   "outputs": [],
   "source": [
    "y_pred = model_xgb.predict(x_test)"
   ]
  },
  {
   "cell_type": "code",
   "execution_count": 31,
   "id": "83e1aab1",
   "metadata": {
    "execution": {
     "iopub.execute_input": "2022-01-18T22:55:26.625392Z",
     "iopub.status.busy": "2022-01-18T22:55:26.624718Z",
     "iopub.status.idle": "2022-01-18T22:55:26.627306Z",
     "shell.execute_reply": "2022-01-18T22:55:26.627808Z",
     "shell.execute_reply.started": "2022-01-18T22:53:28.082847Z"
    },
    "papermill": {
     "duration": 0.061101,
     "end_time": "2022-01-18T22:55:26.627968",
     "exception": false,
     "start_time": "2022-01-18T22:55:26.566867",
     "status": "completed"
    },
    "tags": []
   },
   "outputs": [
    {
     "data": {
      "text/plain": [
       "array([ 410.06198, 1258.9114 , 1595.7488 , 1258.9114 ,  286.84882,\n",
       "       1258.9114 ,  355.3612 ,  355.3612 , 1159.1971 ,  362.40326,\n",
       "       1384.0355 ,  595.75793,  286.84882, 1268.2281 ,  451.06992,\n",
       "        362.40326,  410.06198,  699.30975,  879.53015,  362.40326,\n",
       "        286.84882,  355.3612 , 1233.5153 , 1233.5153 , 1455.2036 ,\n",
       "        362.40326, 1663.8132 , 1663.8132 , 1278.4397 , 1384.0355 ,\n",
       "        595.75793, 1455.2036 , 1278.4397 ,  983.9731 , 1233.5153 ,\n",
       "       1233.5153 , 1268.2281 , 1791.3728 ,  310.44183,  451.06992,\n",
       "        879.53015,  275.21844,  286.84882,  355.3612 , 1791.3728 ,\n",
       "       1268.2281 ,  595.75793,  451.06992,  310.44183, 1233.5153 ,\n",
       "       1159.1971 , 1278.4397 ,  699.30975, 1455.2036 ,  879.53015,\n",
       "        355.3612 ,  983.9731 , 1663.8132 , 1159.1971 , 1595.7488 ],\n",
       "      dtype=float32)"
      ]
     },
     "execution_count": 31,
     "metadata": {},
     "output_type": "execute_result"
    }
   ],
   "source": [
    "y_pred"
   ]
  },
  {
   "cell_type": "code",
   "execution_count": 32,
   "id": "104f9eb0",
   "metadata": {
    "execution": {
     "iopub.execute_input": "2022-01-18T22:55:26.741295Z",
     "iopub.status.busy": "2022-01-18T22:55:26.737172Z",
     "iopub.status.idle": "2022-01-18T22:55:26.743315Z",
     "shell.execute_reply": "2022-01-18T22:55:26.743755Z",
     "shell.execute_reply.started": "2022-01-18T22:53:28.091007Z"
    },
    "papermill": {
     "duration": 0.062234,
     "end_time": "2022-01-18T22:55:26.743878",
     "exception": false,
     "start_time": "2022-01-18T22:55:26.681644",
     "status": "completed"
    },
    "tags": []
   },
   "outputs": [
    {
     "data": {
      "text/plain": [
       "98      406.67\n",
       "259    1283.04\n",
       "184    1512.58\n",
       "256    1246.04\n",
       "29      292.32\n",
       "254    1231.42\n",
       "7       387.35\n",
       "13      346.58\n",
       "230    1178.63\n",
       "91      359.77\n",
       "284    1510.58\n",
       "127     632.59\n",
       "30      292.87\n",
       "241    1199.50\n",
       "113     430.66\n",
       "84      356.86\n",
       "99      403.26\n",
       "140     712.65\n",
       "144     889.60\n",
       "94      389.91\n",
       "35      291.68\n",
       "3       392.85\n",
       "173    1232.92\n",
       "175    1215.81\n",
       "215    1221.51\n",
       "89      356.35\n",
       "203    1684.76\n",
       "193    1744.82\n",
       "266    1324.66\n",
       "281    1359.04\n",
       "131     629.79\n",
       "209    1343.35\n",
       "271    1201.71\n",
       "161     945.67\n",
       "176    1270.98\n",
       "174    1192.97\n",
       "245    1276.40\n",
       "289    1597.10\n",
       "74      294.06\n",
       "109     423.35\n",
       "155     816.09\n",
       "65      270.23\n",
       "41      261.31\n",
       "11      369.00\n",
       "293    1732.22\n",
       "240    1097.91\n",
       "130     627.83\n",
       "114     424.48\n",
       "77      321.18\n",
       "171    1148.69\n",
       "235    1117.93\n",
       "272    1198.39\n",
       "134     654.90\n",
       "214    1275.86\n",
       "151     839.03\n",
       "10      377.85\n",
       "159     890.20\n",
       "199    1630.31\n",
       "232    1198.63\n",
       "180    1360.46\n",
       "Name: Price, dtype: float64"
      ]
     },
     "execution_count": 32,
     "metadata": {},
     "output_type": "execute_result"
    }
   ],
   "source": [
    "y_test"
   ]
  },
  {
   "cell_type": "code",
   "execution_count": 33,
   "id": "8224f1b1",
   "metadata": {
    "execution": {
     "iopub.execute_input": "2022-01-18T22:55:26.819198Z",
     "iopub.status.busy": "2022-01-18T22:55:26.817515Z",
     "iopub.status.idle": "2022-01-18T22:55:26.821497Z",
     "shell.execute_reply": "2022-01-18T22:55:26.821121Z",
     "shell.execute_reply.started": "2022-01-18T22:53:28.107587Z"
    },
    "papermill": {
     "duration": 0.042412,
     "end_time": "2022-01-18T22:55:26.821604",
     "exception": false,
     "start_time": "2022-01-18T22:55:26.779192",
     "status": "completed"
    },
    "tags": []
   },
   "outputs": [],
   "source": [
    "model = RandomForestRegressor()"
   ]
  },
  {
   "cell_type": "code",
   "execution_count": 34,
   "id": "37e60aa2",
   "metadata": {
    "execution": {
     "iopub.execute_input": "2022-01-18T22:55:26.915164Z",
     "iopub.status.busy": "2022-01-18T22:55:26.914655Z",
     "iopub.status.idle": "2022-01-18T22:55:27.071824Z",
     "shell.execute_reply": "2022-01-18T22:55:27.071187Z",
     "shell.execute_reply.started": "2022-01-18T22:53:28.119305Z"
    },
    "papermill": {
     "duration": 0.214344,
     "end_time": "2022-01-18T22:55:27.071959",
     "exception": false,
     "start_time": "2022-01-18T22:55:26.857615",
     "status": "completed"
    },
    "tags": []
   },
   "outputs": [
    {
     "data": {
      "text/plain": [
       "RandomForestRegressor()"
      ]
     },
     "execution_count": 34,
     "metadata": {},
     "output_type": "execute_result"
    }
   ],
   "source": [
    "model.fit(x_train,y_train)"
   ]
  },
  {
   "cell_type": "code",
   "execution_count": 35,
   "id": "85462a51",
   "metadata": {
    "execution": {
     "iopub.execute_input": "2022-01-18T22:55:27.184710Z",
     "iopub.status.busy": "2022-01-18T22:55:27.184038Z",
     "iopub.status.idle": "2022-01-18T22:55:27.195992Z",
     "shell.execute_reply": "2022-01-18T22:55:27.195321Z",
     "shell.execute_reply.started": "2022-01-18T22:53:28.257108Z"
    },
    "papermill": {
     "duration": 0.070581,
     "end_time": "2022-01-18T22:55:27.196156",
     "exception": false,
     "start_time": "2022-01-18T22:55:27.125575",
     "status": "completed"
    },
    "tags": []
   },
   "outputs": [
    {
     "data": {
      "text/plain": [
       "0.9832733943617047"
      ]
     },
     "execution_count": 35,
     "metadata": {},
     "output_type": "execute_result"
    }
   ],
   "source": [
    "model.score(x_train,y_train)"
   ]
  },
  {
   "cell_type": "code",
   "execution_count": 36,
   "id": "67ef1e73",
   "metadata": {
    "execution": {
     "iopub.execute_input": "2022-01-18T22:55:27.311496Z",
     "iopub.status.busy": "2022-01-18T22:55:27.310612Z",
     "iopub.status.idle": "2022-01-18T22:55:27.322143Z",
     "shell.execute_reply": "2022-01-18T22:55:27.321544Z",
     "shell.execute_reply.started": "2022-01-18T22:53:28.276107Z"
    },
    "papermill": {
     "duration": 0.071606,
     "end_time": "2022-01-18T22:55:27.322274",
     "exception": false,
     "start_time": "2022-01-18T22:55:27.250668",
     "status": "completed"
    },
    "tags": []
   },
   "outputs": [
    {
     "data": {
      "text/plain": [
       "array([ 410.25548701, 1262.05532706, 1603.00605693, 1262.05532706,\n",
       "        286.74217518, 1262.05532706,  355.06556176,  355.06556176,\n",
       "       1162.29084691,  362.41942756, 1384.42558966,  595.88973567,\n",
       "        286.74217518, 1267.84629744,  452.75062563,  362.41942756,\n",
       "        410.25548701,  697.35166045,  876.27664493,  362.41942756,\n",
       "        286.74217518,  355.06556176, 1241.19259103, 1241.19259103,\n",
       "       1455.02368484,  362.41942756, 1661.64281208, 1661.64281208,\n",
       "       1278.24266775, 1384.42558966,  595.88973567, 1455.02368484,\n",
       "       1278.24266775,  987.5917047 , 1241.19259103, 1241.19259103,\n",
       "       1267.84629744, 1797.48295125,  310.12806641,  452.75062563,\n",
       "        876.27664493,  274.74513898,  286.74217518,  355.06556176,\n",
       "       1797.48295125, 1267.84629744,  595.88973567,  452.75062563,\n",
       "        310.12806641, 1241.19259103, 1162.29084691, 1278.24266775,\n",
       "        697.35166045, 1455.02368484,  876.27664493,  355.06556176,\n",
       "        987.5917047 , 1661.64281208, 1162.29084691, 1603.00605693])"
      ]
     },
     "execution_count": 36,
     "metadata": {},
     "output_type": "execute_result"
    }
   ],
   "source": [
    "gold_prediction = model.predict(x_test)\n",
    "gold_prediction"
   ]
  },
  {
   "cell_type": "code",
   "execution_count": 37,
   "id": "47fd0941",
   "metadata": {
    "execution": {
     "iopub.execute_input": "2022-01-18T22:55:27.435094Z",
     "iopub.status.busy": "2022-01-18T22:55:27.434242Z",
     "iopub.status.idle": "2022-01-18T22:55:27.438783Z",
     "shell.execute_reply": "2022-01-18T22:55:27.438049Z",
     "shell.execute_reply.started": "2022-01-18T22:53:28.295465Z"
    },
    "papermill": {
     "duration": 0.062585,
     "end_time": "2022-01-18T22:55:27.438933",
     "exception": false,
     "start_time": "2022-01-18T22:55:27.376348",
     "status": "completed"
    },
    "tags": []
   },
   "outputs": [
    {
     "name": "stdout",
     "output_type": "stream",
     "text": [
      "R squared :  0.9745636529661112\n"
     ]
    }
   ],
   "source": [
    "error_score = metrics.r2_score(y_test,gold_prediction)\n",
    "print(\"R squared : \",error_score)"
   ]
  },
  {
   "cell_type": "code",
   "execution_count": 38,
   "id": "1bc4a021",
   "metadata": {
    "execution": {
     "iopub.execute_input": "2022-01-18T22:55:27.556716Z",
     "iopub.status.busy": "2022-01-18T22:55:27.555957Z",
     "iopub.status.idle": "2022-01-18T22:55:27.558266Z",
     "shell.execute_reply": "2022-01-18T22:55:27.558719Z",
     "shell.execute_reply.started": "2022-01-18T22:53:28.303754Z"
    },
    "papermill": {
     "duration": 0.063165,
     "end_time": "2022-01-18T22:55:27.558871",
     "exception": false,
     "start_time": "2022-01-18T22:55:27.495706",
     "status": "completed"
    },
    "tags": []
   },
   "outputs": [],
   "source": [
    "y_test1 = list(y_test)"
   ]
  },
  {
   "cell_type": "code",
   "execution_count": 39,
   "id": "6fc85d46",
   "metadata": {
    "execution": {
     "iopub.execute_input": "2022-01-18T22:55:27.716725Z",
     "iopub.status.busy": "2022-01-18T22:55:27.698923Z",
     "iopub.status.idle": "2022-01-18T22:55:27.848715Z",
     "shell.execute_reply": "2022-01-18T22:55:27.848185Z",
     "shell.execute_reply.started": "2022-01-18T22:53:28.320770Z"
    },
    "papermill": {
     "duration": 0.23529,
     "end_time": "2022-01-18T22:55:27.848839",
     "exception": false,
     "start_time": "2022-01-18T22:55:27.613549",
     "status": "completed"
    },
    "tags": []
   },
   "outputs": [
    {
     "data": {
      "image/png": "[encoded data removed]",
      "text/plain": [
       "<Figure size 432x288 with 1 Axes>"
      ]
     },
     "metadata": {
      "needs_background": "light"
     },
     "output_type": "display_data"
    }
   ],
   "source": [
    "plt.plot(gold_prediction,color=\"red\",label=\"Predicted Price\")\n",
    "plt.plot(y_test1,color=\"green\",label=\"Original Price\")\n",
    "plt.title(\"Prediction Evaluation\")\n",
    "plt.xlabel('No.of.Values')\n",
    "plt.ylabel('GOLD PRICE')\n",
    "plt.legend()\n",
    "plt.show()"
   ]
  },
  {
   "cell_type": "code",
   "execution_count": 40,
   "id": "35848639",
   "metadata": {
    "execution": {
     "iopub.execute_input": "2022-01-18T22:55:27.967622Z",
     "iopub.status.busy": "2022-01-18T22:55:27.966619Z",
     "iopub.status.idle": "2022-01-18T22:55:27.977957Z",
     "shell.execute_reply": "2022-01-18T22:55:27.977374Z",
     "shell.execute_reply.started": "2022-01-18T22:53:28.554415Z"
    },
    "papermill": {
     "duration": 0.073544,
     "end_time": "2022-01-18T22:55:27.978103",
     "exception": false,
     "start_time": "2022-01-18T22:55:27.904559",
     "status": "completed"
    },
    "tags": []
   },
   "outputs": [
    {
     "data": {
      "text/plain": [
       "0.9745636529661112"
      ]
     },
     "execution_count": 40,
     "metadata": {},
     "output_type": "execute_result"
    }
   ],
   "source": [
    "model.score(x_test,y_test)"
   ]
  }
 ],
 "metadata": {
  "kernelspec": {
   "display_name": "Python 3 (ipykernel)",
   "language": "python",
   "name": "python3"
  },
  "language_info": {
   "codemirror_mode": {
    "name": "ipython",
    "version": 3
   },
   "file_extension": ".py",
   "mimetype": "text/x-python",
   "name": "python",
   "nbconvert_exporter": "python",
   "pygments_lexer": "ipython3",
   "version": "3.9.7"
  },
  "papermill": {
   "default_parameters": {},
   "duration": 48.514113,
   "end_time": "2022-01-18T22:55:28.844075",
   "environment_variables": {},
   "exception": null,
   "input_path": "__notebook__.ipynb",
   "output_path": "__notebook__.ipynb",
   "parameters": {},
   "start_time": "2022-01-18T22:54:40.329962",
   "version": "2.3.3"
  }
 },
 "nbformat": 4,
 "nbformat_minor": 5
}
